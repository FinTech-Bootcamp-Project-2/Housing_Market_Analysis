{
 "cells": [
  {
   "cell_type": "code",
   "execution_count": 1,
   "id": "d6a5464d-fa60-4763-a66c-48441339f458",
   "metadata": {},
   "outputs": [],
   "source": [
    "import numpy as np\n",
    "import matplotlib.pyplot as plt\n",
    "plt.style.use('fivethirtyeight')\n",
    "import pandas as pd\n",
    "from sklearn.preprocessing import MinMaxScaler\n",
    "from keras.models import Sequential\n",
    "from keras.layers import GRU, Dense, Dropout\n",
    "import math\n",
    "from sklearn.metrics import mean_squared_error\n",
    "from pathlib import Path\n",
    "from tensorflow.keras.optimizers import SGD"
   ]
  },
  {
   "cell_type": "code",
   "execution_count": 2,
   "id": "39032311-cc94-42e4-b5a4-0de6fe9b2934",
   "metadata": {},
   "outputs": [
    {
     "data": {
      "text/html": [
       "<div>\n",
       "<style scoped>\n",
       "    .dataframe tbody tr th:only-of-type {\n",
       "        vertical-align: middle;\n",
       "    }\n",
       "\n",
       "    .dataframe tbody tr th {\n",
       "        vertical-align: top;\n",
       "    }\n",
       "\n",
       "    .dataframe thead th {\n",
       "        text-align: right;\n",
       "    }\n",
       "</style>\n",
       "<table border=\"1\" class=\"dataframe\">\n",
       "  <thead>\n",
       "    <tr style=\"text-align: right;\">\n",
       "      <th></th>\n",
       "      <th>Unnamed: 0</th>\n",
       "      <th>CANLORSGPNOSTSAM</th>\n",
       "      <th>inflation_common</th>\n",
       "      <th>inflation_trimmed_median</th>\n",
       "      <th>inflation_weighted_median</th>\n",
       "      <th>employment_rate</th>\n",
       "      <th>unemployment_rate</th>\n",
       "      <th>participation_rate</th>\n",
       "      <th>5_year_bond_benchmark</th>\n",
       "      <th>10_year_bond_benchmark</th>\n",
       "      <th>long_term_bond_benchmark</th>\n",
       "      <th>Bank of Canada Target Overnight Rate</th>\n",
       "      <th>Mortgage Rate</th>\n",
       "    </tr>\n",
       "  </thead>\n",
       "  <tbody>\n",
       "    <tr>\n",
       "      <th>0</th>\n",
       "      <td>1990-01-01</td>\n",
       "      <td>102.220629</td>\n",
       "      <td>3.4</td>\n",
       "      <td>4.9</td>\n",
       "      <td>4.7</td>\n",
       "      <td>60.4</td>\n",
       "      <td>8.7</td>\n",
       "      <td>66.1</td>\n",
       "      <td>10.045000</td>\n",
       "      <td>9.965000</td>\n",
       "      <td>9.820000</td>\n",
       "      <td>12.04</td>\n",
       "      <td>12.01</td>\n",
       "    </tr>\n",
       "    <tr>\n",
       "      <th>1</th>\n",
       "      <td>1990-02-01</td>\n",
       "      <td>102.203404</td>\n",
       "      <td>3.3</td>\n",
       "      <td>4.7</td>\n",
       "      <td>4.5</td>\n",
       "      <td>60.6</td>\n",
       "      <td>8.4</td>\n",
       "      <td>66.2</td>\n",
       "      <td>10.538182</td>\n",
       "      <td>10.253636</td>\n",
       "      <td>9.999091</td>\n",
       "      <td>13.00</td>\n",
       "      <td>12.42</td>\n",
       "    </tr>\n",
       "    <tr>\n",
       "      <th>2</th>\n",
       "      <td>1990-03-01</td>\n",
       "      <td>102.130889</td>\n",
       "      <td>3.4</td>\n",
       "      <td>4.6</td>\n",
       "      <td>4.3</td>\n",
       "      <td>60.7</td>\n",
       "      <td>8.3</td>\n",
       "      <td>66.2</td>\n",
       "      <td>11.147692</td>\n",
       "      <td>10.761538</td>\n",
       "      <td>10.596154</td>\n",
       "      <td>13.13</td>\n",
       "      <td>12.92</td>\n",
       "    </tr>\n",
       "    <tr>\n",
       "      <th>3</th>\n",
       "      <td>1990-04-01</td>\n",
       "      <td>101.995714</td>\n",
       "      <td>3.5</td>\n",
       "      <td>4.5</td>\n",
       "      <td>4.2</td>\n",
       "      <td>61.1</td>\n",
       "      <td>7.9</td>\n",
       "      <td>66.4</td>\n",
       "      <td>12.175000</td>\n",
       "      <td>11.519286</td>\n",
       "      <td>11.275714</td>\n",
       "      <td>13.52</td>\n",
       "      <td>13.67</td>\n",
       "    </tr>\n",
       "    <tr>\n",
       "      <th>4</th>\n",
       "      <td>1990-05-01</td>\n",
       "      <td>101.800030</td>\n",
       "      <td>3.6</td>\n",
       "      <td>4.3</td>\n",
       "      <td>4.0</td>\n",
       "      <td>62.4</td>\n",
       "      <td>7.8</td>\n",
       "      <td>67.6</td>\n",
       "      <td>11.741538</td>\n",
       "      <td>11.125385</td>\n",
       "      <td>10.990000</td>\n",
       "      <td>13.80</td>\n",
       "      <td>14.21</td>\n",
       "    </tr>\n",
       "  </tbody>\n",
       "</table>\n",
       "</div>"
      ],
      "text/plain": [
       "   Unnamed: 0  CANLORSGPNOSTSAM  inflation_common  inflation_trimmed_median  \\\n",
       "0  1990-01-01        102.220629               3.4                       4.9   \n",
       "1  1990-02-01        102.203404               3.3                       4.7   \n",
       "2  1990-03-01        102.130889               3.4                       4.6   \n",
       "3  1990-04-01        101.995714               3.5                       4.5   \n",
       "4  1990-05-01        101.800030               3.6                       4.3   \n",
       "\n",
       "   inflation_weighted_median  employment_rate  unemployment_rate  \\\n",
       "0                        4.7             60.4                8.7   \n",
       "1                        4.5             60.6                8.4   \n",
       "2                        4.3             60.7                8.3   \n",
       "3                        4.2             61.1                7.9   \n",
       "4                        4.0             62.4                7.8   \n",
       "\n",
       "   participation_rate  5_year_bond_benchmark  10_year_bond_benchmark  \\\n",
       "0                66.1              10.045000                9.965000   \n",
       "1                66.2              10.538182               10.253636   \n",
       "2                66.2              11.147692               10.761538   \n",
       "3                66.4              12.175000               11.519286   \n",
       "4                67.6              11.741538               11.125385   \n",
       "\n",
       "   long_term_bond_benchmark  Bank of Canada Target Overnight Rate  \\\n",
       "0                  9.820000                                 12.04   \n",
       "1                  9.999091                                 13.00   \n",
       "2                 10.596154                                 13.13   \n",
       "3                 11.275714                                 13.52   \n",
       "4                 10.990000                                 13.80   \n",
       "\n",
       "   Mortgage Rate  \n",
       "0          12.01  \n",
       "1          12.42  \n",
       "2          12.92  \n",
       "3          13.67  \n",
       "4          14.21  "
      ]
     },
     "execution_count": 2,
     "metadata": {},
     "output_type": "execute_result"
    }
   ],
   "source": [
    "data = Path('cleaned_data.csv')\n",
    "#df = pd.read_csv(data, index_col='Unnamed: 0')\n",
    "df = pd.read_csv(data)\n",
    "df.head()"
   ]
  },
  {
   "cell_type": "code",
   "execution_count": 3,
   "id": "7afd8864-2dac-40dc-9bfd-be466332bb79",
   "metadata": {},
   "outputs": [
    {
     "data": {
      "text/html": [
       "<div>\n",
       "<style scoped>\n",
       "    .dataframe tbody tr th:only-of-type {\n",
       "        vertical-align: middle;\n",
       "    }\n",
       "\n",
       "    .dataframe tbody tr th {\n",
       "        vertical-align: top;\n",
       "    }\n",
       "\n",
       "    .dataframe thead th {\n",
       "        text-align: right;\n",
       "    }\n",
       "</style>\n",
       "<table border=\"1\" class=\"dataframe\">\n",
       "  <thead>\n",
       "    <tr style=\"text-align: right;\">\n",
       "      <th></th>\n",
       "      <th>date</th>\n",
       "      <th>CANLORSGPNOSTSAM</th>\n",
       "      <th>inflation_common</th>\n",
       "      <th>inflation_trimmed_median</th>\n",
       "      <th>inflation_weighted_median</th>\n",
       "      <th>employment_rate</th>\n",
       "      <th>unemployment_rate</th>\n",
       "      <th>participation_rate</th>\n",
       "      <th>5_year_bond_benchmark</th>\n",
       "      <th>10_year_bond_benchmark</th>\n",
       "      <th>long_term_bond_benchmark</th>\n",
       "      <th>Bank of Canada Target Overnight Rate</th>\n",
       "      <th>mortgage_rate</th>\n",
       "    </tr>\n",
       "  </thead>\n",
       "  <tbody>\n",
       "    <tr>\n",
       "      <th>0</th>\n",
       "      <td>1990-01-01</td>\n",
       "      <td>102.220629</td>\n",
       "      <td>3.4</td>\n",
       "      <td>4.9</td>\n",
       "      <td>4.7</td>\n",
       "      <td>60.4</td>\n",
       "      <td>8.7</td>\n",
       "      <td>66.1</td>\n",
       "      <td>10.045000</td>\n",
       "      <td>9.965000</td>\n",
       "      <td>9.820000</td>\n",
       "      <td>12.04</td>\n",
       "      <td>12.01</td>\n",
       "    </tr>\n",
       "    <tr>\n",
       "      <th>1</th>\n",
       "      <td>1990-02-01</td>\n",
       "      <td>102.203404</td>\n",
       "      <td>3.3</td>\n",
       "      <td>4.7</td>\n",
       "      <td>4.5</td>\n",
       "      <td>60.6</td>\n",
       "      <td>8.4</td>\n",
       "      <td>66.2</td>\n",
       "      <td>10.538182</td>\n",
       "      <td>10.253636</td>\n",
       "      <td>9.999091</td>\n",
       "      <td>13.00</td>\n",
       "      <td>12.42</td>\n",
       "    </tr>\n",
       "    <tr>\n",
       "      <th>2</th>\n",
       "      <td>1990-03-01</td>\n",
       "      <td>102.130889</td>\n",
       "      <td>3.4</td>\n",
       "      <td>4.6</td>\n",
       "      <td>4.3</td>\n",
       "      <td>60.7</td>\n",
       "      <td>8.3</td>\n",
       "      <td>66.2</td>\n",
       "      <td>11.147692</td>\n",
       "      <td>10.761538</td>\n",
       "      <td>10.596154</td>\n",
       "      <td>13.13</td>\n",
       "      <td>12.92</td>\n",
       "    </tr>\n",
       "    <tr>\n",
       "      <th>3</th>\n",
       "      <td>1990-04-01</td>\n",
       "      <td>101.995714</td>\n",
       "      <td>3.5</td>\n",
       "      <td>4.5</td>\n",
       "      <td>4.2</td>\n",
       "      <td>61.1</td>\n",
       "      <td>7.9</td>\n",
       "      <td>66.4</td>\n",
       "      <td>12.175000</td>\n",
       "      <td>11.519286</td>\n",
       "      <td>11.275714</td>\n",
       "      <td>13.52</td>\n",
       "      <td>13.67</td>\n",
       "    </tr>\n",
       "    <tr>\n",
       "      <th>4</th>\n",
       "      <td>1990-05-01</td>\n",
       "      <td>101.800030</td>\n",
       "      <td>3.6</td>\n",
       "      <td>4.3</td>\n",
       "      <td>4.0</td>\n",
       "      <td>62.4</td>\n",
       "      <td>7.8</td>\n",
       "      <td>67.6</td>\n",
       "      <td>11.741538</td>\n",
       "      <td>11.125385</td>\n",
       "      <td>10.990000</td>\n",
       "      <td>13.80</td>\n",
       "      <td>14.21</td>\n",
       "    </tr>\n",
       "  </tbody>\n",
       "</table>\n",
       "</div>"
      ],
      "text/plain": [
       "         date  CANLORSGPNOSTSAM  inflation_common  inflation_trimmed_median  \\\n",
       "0  1990-01-01        102.220629               3.4                       4.9   \n",
       "1  1990-02-01        102.203404               3.3                       4.7   \n",
       "2  1990-03-01        102.130889               3.4                       4.6   \n",
       "3  1990-04-01        101.995714               3.5                       4.5   \n",
       "4  1990-05-01        101.800030               3.6                       4.3   \n",
       "\n",
       "   inflation_weighted_median  employment_rate  unemployment_rate  \\\n",
       "0                        4.7             60.4                8.7   \n",
       "1                        4.5             60.6                8.4   \n",
       "2                        4.3             60.7                8.3   \n",
       "3                        4.2             61.1                7.9   \n",
       "4                        4.0             62.4                7.8   \n",
       "\n",
       "   participation_rate  5_year_bond_benchmark  10_year_bond_benchmark  \\\n",
       "0                66.1              10.045000                9.965000   \n",
       "1                66.2              10.538182               10.253636   \n",
       "2                66.2              11.147692               10.761538   \n",
       "3                66.4              12.175000               11.519286   \n",
       "4                67.6              11.741538               11.125385   \n",
       "\n",
       "   long_term_bond_benchmark  Bank of Canada Target Overnight Rate  \\\n",
       "0                  9.820000                                 12.04   \n",
       "1                  9.999091                                 13.00   \n",
       "2                 10.596154                                 13.13   \n",
       "3                 11.275714                                 13.52   \n",
       "4                 10.990000                                 13.80   \n",
       "\n",
       "   mortgage_rate  \n",
       "0          12.01  \n",
       "1          12.42  \n",
       "2          12.92  \n",
       "3          13.67  \n",
       "4          14.21  "
      ]
     },
     "execution_count": 3,
     "metadata": {},
     "output_type": "execute_result"
    }
   ],
   "source": [
    "df = df.rename({'Unnamed: 0': 'date', 'Mortgage Rate': 'mortgage_rate'}, axis=1)\n",
    "df.head()"
   ]
  },
  {
   "cell_type": "code",
   "execution_count": 4,
   "id": "913ed3c7-b12b-4c2a-9571-b53c87d88377",
   "metadata": {},
   "outputs": [
    {
     "data": {
      "text/html": [
       "<div>\n",
       "<style scoped>\n",
       "    .dataframe tbody tr th:only-of-type {\n",
       "        vertical-align: middle;\n",
       "    }\n",
       "\n",
       "    .dataframe tbody tr th {\n",
       "        vertical-align: top;\n",
       "    }\n",
       "\n",
       "    .dataframe thead th {\n",
       "        text-align: right;\n",
       "    }\n",
       "</style>\n",
       "<table border=\"1\" class=\"dataframe\">\n",
       "  <thead>\n",
       "    <tr style=\"text-align: right;\">\n",
       "      <th></th>\n",
       "      <th>CANLORSGPNOSTSAM</th>\n",
       "      <th>inflation_common</th>\n",
       "      <th>inflation_trimmed_median</th>\n",
       "      <th>inflation_weighted_median</th>\n",
       "      <th>employment_rate</th>\n",
       "      <th>unemployment_rate</th>\n",
       "      <th>participation_rate</th>\n",
       "      <th>5_year_bond_benchmark</th>\n",
       "      <th>10_year_bond_benchmark</th>\n",
       "      <th>long_term_bond_benchmark</th>\n",
       "      <th>Bank of Canada Target Overnight Rate</th>\n",
       "      <th>mortgage_rate</th>\n",
       "    </tr>\n",
       "    <tr>\n",
       "      <th>date</th>\n",
       "      <th></th>\n",
       "      <th></th>\n",
       "      <th></th>\n",
       "      <th></th>\n",
       "      <th></th>\n",
       "      <th></th>\n",
       "      <th></th>\n",
       "      <th></th>\n",
       "      <th></th>\n",
       "      <th></th>\n",
       "      <th></th>\n",
       "      <th></th>\n",
       "    </tr>\n",
       "  </thead>\n",
       "  <tbody>\n",
       "    <tr>\n",
       "      <th>1990-01-01</th>\n",
       "      <td>102.220629</td>\n",
       "      <td>3.4</td>\n",
       "      <td>4.9</td>\n",
       "      <td>4.7</td>\n",
       "      <td>60.4</td>\n",
       "      <td>8.7</td>\n",
       "      <td>66.1</td>\n",
       "      <td>10.045000</td>\n",
       "      <td>9.965000</td>\n",
       "      <td>9.820000</td>\n",
       "      <td>12.04</td>\n",
       "      <td>12.01</td>\n",
       "    </tr>\n",
       "    <tr>\n",
       "      <th>1990-02-01</th>\n",
       "      <td>102.203404</td>\n",
       "      <td>3.3</td>\n",
       "      <td>4.7</td>\n",
       "      <td>4.5</td>\n",
       "      <td>60.6</td>\n",
       "      <td>8.4</td>\n",
       "      <td>66.2</td>\n",
       "      <td>10.538182</td>\n",
       "      <td>10.253636</td>\n",
       "      <td>9.999091</td>\n",
       "      <td>13.00</td>\n",
       "      <td>12.42</td>\n",
       "    </tr>\n",
       "    <tr>\n",
       "      <th>1990-03-01</th>\n",
       "      <td>102.130889</td>\n",
       "      <td>3.4</td>\n",
       "      <td>4.6</td>\n",
       "      <td>4.3</td>\n",
       "      <td>60.7</td>\n",
       "      <td>8.3</td>\n",
       "      <td>66.2</td>\n",
       "      <td>11.147692</td>\n",
       "      <td>10.761538</td>\n",
       "      <td>10.596154</td>\n",
       "      <td>13.13</td>\n",
       "      <td>12.92</td>\n",
       "    </tr>\n",
       "    <tr>\n",
       "      <th>1990-04-01</th>\n",
       "      <td>101.995714</td>\n",
       "      <td>3.5</td>\n",
       "      <td>4.5</td>\n",
       "      <td>4.2</td>\n",
       "      <td>61.1</td>\n",
       "      <td>7.9</td>\n",
       "      <td>66.4</td>\n",
       "      <td>12.175000</td>\n",
       "      <td>11.519286</td>\n",
       "      <td>11.275714</td>\n",
       "      <td>13.52</td>\n",
       "      <td>13.67</td>\n",
       "    </tr>\n",
       "    <tr>\n",
       "      <th>1990-05-01</th>\n",
       "      <td>101.800030</td>\n",
       "      <td>3.6</td>\n",
       "      <td>4.3</td>\n",
       "      <td>4.0</td>\n",
       "      <td>62.4</td>\n",
       "      <td>7.8</td>\n",
       "      <td>67.6</td>\n",
       "      <td>11.741538</td>\n",
       "      <td>11.125385</td>\n",
       "      <td>10.990000</td>\n",
       "      <td>13.80</td>\n",
       "      <td>14.21</td>\n",
       "    </tr>\n",
       "  </tbody>\n",
       "</table>\n",
       "</div>"
      ],
      "text/plain": [
       "            CANLORSGPNOSTSAM  inflation_common  inflation_trimmed_median  \\\n",
       "date                                                                       \n",
       "1990-01-01        102.220629               3.4                       4.9   \n",
       "1990-02-01        102.203404               3.3                       4.7   \n",
       "1990-03-01        102.130889               3.4                       4.6   \n",
       "1990-04-01        101.995714               3.5                       4.5   \n",
       "1990-05-01        101.800030               3.6                       4.3   \n",
       "\n",
       "            inflation_weighted_median  employment_rate  unemployment_rate  \\\n",
       "date                                                                        \n",
       "1990-01-01                        4.7             60.4                8.7   \n",
       "1990-02-01                        4.5             60.6                8.4   \n",
       "1990-03-01                        4.3             60.7                8.3   \n",
       "1990-04-01                        4.2             61.1                7.9   \n",
       "1990-05-01                        4.0             62.4                7.8   \n",
       "\n",
       "            participation_rate  5_year_bond_benchmark  10_year_bond_benchmark  \\\n",
       "date                                                                            \n",
       "1990-01-01                66.1              10.045000                9.965000   \n",
       "1990-02-01                66.2              10.538182               10.253636   \n",
       "1990-03-01                66.2              11.147692               10.761538   \n",
       "1990-04-01                66.4              12.175000               11.519286   \n",
       "1990-05-01                67.6              11.741538               11.125385   \n",
       "\n",
       "            long_term_bond_benchmark  Bank of Canada Target Overnight Rate  \\\n",
       "date                                                                         \n",
       "1990-01-01                  9.820000                                 12.04   \n",
       "1990-02-01                  9.999091                                 13.00   \n",
       "1990-03-01                 10.596154                                 13.13   \n",
       "1990-04-01                 11.275714                                 13.52   \n",
       "1990-05-01                 10.990000                                 13.80   \n",
       "\n",
       "            mortgage_rate  \n",
       "date                       \n",
       "1990-01-01          12.01  \n",
       "1990-02-01          12.42  \n",
       "1990-03-01          12.92  \n",
       "1990-04-01          13.67  \n",
       "1990-05-01          14.21  "
      ]
     },
     "execution_count": 4,
     "metadata": {},
     "output_type": "execute_result"
    }
   ],
   "source": [
    "df.set_index('date', inplace=True)\n",
    "df.head()"
   ]
  },
  {
   "cell_type": "code",
   "execution_count": 5,
   "id": "d8fca432-326f-4769-9c27-74e18d0e64d1",
   "metadata": {},
   "outputs": [],
   "source": [
    "X = df.drop(['mortgage_rate'], axis=1)\n",
    "y = df['mortgage_rate']"
   ]
  },
  {
   "cell_type": "code",
   "execution_count": 41,
   "id": "9eb00b1a-6355-4e41-b570-e924d76a802b",
   "metadata": {},
   "outputs": [],
   "source": [
    "def window_data(df, window, feature_col_number, target_col_number):\n",
    "    X = []\n",
    "    y = []\n",
    "    for i in range(len(df) - window - 1):\n",
    "        features = df.iloc[i:(i + window), feature_col_number]\n",
    "        target = df.iloc[(i + window), target_col_number]\n",
    "        X.append(features)\n",
    "        y.append(target)\n",
    "    return np.array(X), np.array(y).reshape(-1, 1)"
   ]
  },
  {
   "cell_type": "code",
   "execution_count": 42,
   "id": "7277e5fb-045c-49b5-adf5-15bf3a54396c",
   "metadata": {},
   "outputs": [],
   "source": [
    "window_size = 10\n",
    "\n",
    "feature_column = 11\n",
    "target_column = 11\n",
    "X, y = window_data(df, window_size, feature_column, target_column)"
   ]
  },
  {
   "cell_type": "code",
   "execution_count": 43,
   "id": "6d11db47-3fe3-4881-b243-288a54ee2912",
   "metadata": {},
   "outputs": [],
   "source": [
    "split = int(0.7 * len(X))\n",
    "X_train = X[: split]\n",
    "X_test = X[split:]\n",
    "y_train = y[: split]\n",
    "y_test = y[split:]"
   ]
  },
  {
   "cell_type": "code",
   "execution_count": 44,
   "id": "f36c8d44-0b1d-4265-81b7-fd5ee4f1a423",
   "metadata": {},
   "outputs": [],
   "source": [
    "from sklearn.preprocessing import MinMaxScaler\n",
    "# Use the MinMaxScaler to scale data between 0 and 1.\n",
    "\n",
    "scaler = MinMaxScaler()\n",
    "\n",
    "scaler.fit(X_train)\n",
    "\n",
    "X_train = scaler.transform(X_train)\n",
    "X_test = scaler.transform(X_test)\n",
    "\n",
    "scaler.fit(y_train)\n",
    "\n",
    "y_train = scaler.transform(y_train)\n",
    "y_test = scaler.transform(y_test) "
   ]
  },
  {
   "cell_type": "code",
   "execution_count": 45,
   "id": "f6198a36-7818-4e0b-8716-f663eb56ec6d",
   "metadata": {},
   "outputs": [
    {
     "data": {
      "text/plain": [
       "250"
      ]
     },
     "execution_count": 45,
     "metadata": {},
     "output_type": "execute_result"
    }
   ],
   "source": [
    "X_train.shape[0]"
   ]
  },
  {
   "cell_type": "code",
   "execution_count": 46,
   "id": "55dba29c-ee6f-477d-bb9e-5e8aed473383",
   "metadata": {},
   "outputs": [
    {
     "data": {
      "text/plain": [
       "10"
      ]
     },
     "execution_count": 46,
     "metadata": {},
     "output_type": "execute_result"
    }
   ],
   "source": [
    "X_train.shape[1]"
   ]
  },
  {
   "cell_type": "code",
   "execution_count": 47,
   "id": "391085a2-1ec9-4a7d-b5eb-60a32e933e37",
   "metadata": {},
   "outputs": [],
   "source": [
    "X_train = X_train.reshape((X_train.shape[0], X_train.shape[1], 1))\n",
    "X_test = X_test.reshape((X_test.shape[0], X_test.shape[1], 1))"
   ]
  },
  {
   "cell_type": "markdown",
   "id": "3da5c8bb-240a-4221-8942-92b82c08f86f",
   "metadata": {},
   "source": [
    "## Using GRU(Gated Recurrent Units)"
   ]
  },
  {
   "cell_type": "code",
   "execution_count": 48,
   "id": "1bb8526c-6362-4744-85f5-5151a88b4d2a",
   "metadata": {},
   "outputs": [],
   "source": [
    "# The GRU architecture\n",
    "regressorGRU = Sequential()"
   ]
  },
  {
   "cell_type": "code",
   "execution_count": 49,
   "id": "e3c83175-8013-4b35-a5eb-f3113ce4698e",
   "metadata": {},
   "outputs": [],
   "source": [
    "# First GRU layer with Dropout regularisation\n",
    "regressorGRU.add(GRU(units=50, return_sequences=True, input_shape=(X_train.shape[1],1), activation='tanh'))\n",
    "regressorGRU.add(Dropout(0.2))"
   ]
  },
  {
   "cell_type": "code",
   "execution_count": 50,
   "id": "0a701d2a-52cd-40da-a01d-3d79af25cca3",
   "metadata": {},
   "outputs": [],
   "source": [
    "# Second GRU layer\n",
    "regressorGRU.add(GRU(units=50, return_sequences=True, input_shape=(X_train.shape[1],1), activation='tanh'))\n",
    "regressorGRU.add(Dropout(0.2))"
   ]
  },
  {
   "cell_type": "code",
   "execution_count": 51,
   "id": "d16750ab-0441-4ae5-8e40-46ecae089c4b",
   "metadata": {},
   "outputs": [],
   "source": [
    "# Third GRU layer\n",
    "regressorGRU.add(GRU(units=50, return_sequences=True, input_shape=(X_train.shape[1],1), activation='tanh'))\n",
    "regressorGRU.add(Dropout(0.2))"
   ]
  },
  {
   "cell_type": "code",
   "execution_count": 52,
   "id": "a206e827-5fc1-4b89-b8f9-366e95fe45d8",
   "metadata": {},
   "outputs": [],
   "source": [
    "# Fourth GRU layer\n",
    "regressorGRU.add(GRU(units=50, activation='tanh'))\n",
    "regressorGRU.add(Dropout(0.2))"
   ]
  },
  {
   "cell_type": "code",
   "execution_count": 53,
   "id": "8a7cb0c7-ab35-44d6-b404-dd7eb9d907b6",
   "metadata": {},
   "outputs": [],
   "source": [
    "# The output layer\n",
    "regressorGRU.add(Dense(units=1))"
   ]
  },
  {
   "cell_type": "code",
   "execution_count": 54,
   "id": "c922f5c1-9986-4715-810b-23578a8bf6f8",
   "metadata": {},
   "outputs": [],
   "source": [
    "# Compiling the RNN\n",
    "regressorGRU.compile(optimizer=SGD(learning_rate=0.01, decay=1e-7, momentum=0.9, nesterov=False),loss='mean_squared_error')"
   ]
  },
  {
   "cell_type": "code",
   "execution_count": 55,
   "id": "9bbc4469-0a4a-42cc-b81f-c1f5bf6a70f9",
   "metadata": {},
   "outputs": [
    {
     "name": "stdout",
     "output_type": "stream",
     "text": [
      "Epoch 1/50\n",
      "2/2 [==============================] - 6s 29ms/step - loss: 0.1523\n",
      "Epoch 2/50\n",
      "2/2 [==============================] - 0s 33ms/step - loss: 0.0817\n",
      "Epoch 3/50\n",
      "2/2 [==============================] - 0s 29ms/step - loss: 0.0524\n",
      "Epoch 4/50\n",
      "2/2 [==============================] - 0s 31ms/step - loss: 0.0752\n",
      "Epoch 5/50\n",
      "2/2 [==============================] - 0s 29ms/step - loss: 0.0902\n",
      "Epoch 6/50\n",
      "2/2 [==============================] - 0s 29ms/step - loss: 0.0669\n",
      "Epoch 7/50\n",
      "2/2 [==============================] - 0s 28ms/step - loss: 0.0419\n",
      "Epoch 8/50\n",
      "2/2 [==============================] - 0s 29ms/step - loss: 0.0483\n",
      "Epoch 9/50\n",
      "2/2 [==============================] - 0s 25ms/step - loss: 0.0579\n",
      "Epoch 10/50\n",
      "2/2 [==============================] - 0s 28ms/step - loss: 0.0532\n",
      "Epoch 11/50\n",
      "2/2 [==============================] - 0s 26ms/step - loss: 0.0404\n",
      "Epoch 12/50\n",
      "2/2 [==============================] - 0s 28ms/step - loss: 0.0351\n",
      "Epoch 13/50\n",
      "2/2 [==============================] - 0s 28ms/step - loss: 0.0389\n",
      "Epoch 14/50\n",
      "2/2 [==============================] - 0s 25ms/step - loss: 0.0383\n",
      "Epoch 15/50\n",
      "2/2 [==============================] - 0s 28ms/step - loss: 0.0355\n",
      "Epoch 16/50\n",
      "2/2 [==============================] - 0s 28ms/step - loss: 0.0301\n",
      "Epoch 17/50\n",
      "2/2 [==============================] - 0s 26ms/step - loss: 0.0287\n",
      "Epoch 18/50\n",
      "2/2 [==============================] - 0s 28ms/step - loss: 0.0288\n",
      "Epoch 19/50\n",
      "2/2 [==============================] - 0s 25ms/step - loss: 0.0269\n",
      "Epoch 20/50\n",
      "2/2 [==============================] - 0s 30ms/step - loss: 0.0222\n",
      "Epoch 21/50\n",
      "2/2 [==============================] - 0s 30ms/step - loss: 0.0230\n",
      "Epoch 22/50\n",
      "2/2 [==============================] - 0s 31ms/step - loss: 0.0218\n",
      "Epoch 23/50\n",
      "2/2 [==============================] - 0s 32ms/step - loss: 0.0207\n",
      "Epoch 24/50\n",
      "2/2 [==============================] - 0s 30ms/step - loss: 0.0178\n",
      "Epoch 25/50\n",
      "2/2 [==============================] - 0s 28ms/step - loss: 0.0169\n",
      "Epoch 26/50\n",
      "2/2 [==============================] - 0s 29ms/step - loss: 0.0167\n",
      "Epoch 27/50\n",
      "2/2 [==============================] - 0s 33ms/step - loss: 0.0146\n",
      "Epoch 28/50\n",
      "2/2 [==============================] - 0s 29ms/step - loss: 0.0136\n",
      "Epoch 29/50\n",
      "2/2 [==============================] - 0s 28ms/step - loss: 0.0127\n",
      "Epoch 30/50\n",
      "2/2 [==============================] - 0s 29ms/step - loss: 0.0107\n",
      "Epoch 31/50\n",
      "2/2 [==============================] - 0s 30ms/step - loss: 0.0102\n",
      "Epoch 32/50\n",
      "2/2 [==============================] - 0s 30ms/step - loss: 0.0090\n",
      "Epoch 33/50\n",
      "2/2 [==============================] - 0s 28ms/step - loss: 0.0091\n",
      "Epoch 34/50\n",
      "2/2 [==============================] - 0s 30ms/step - loss: 0.0078\n",
      "Epoch 35/50\n",
      "2/2 [==============================] - 0s 29ms/step - loss: 0.0069\n",
      "Epoch 36/50\n",
      "2/2 [==============================] - 0s 29ms/step - loss: 0.0074\n",
      "Epoch 37/50\n",
      "2/2 [==============================] - 0s 30ms/step - loss: 0.0075\n",
      "Epoch 38/50\n",
      "2/2 [==============================] - 0s 28ms/step - loss: 0.0056\n",
      "Epoch 39/50\n",
      "2/2 [==============================] - 0s 30ms/step - loss: 0.0052\n",
      "Epoch 40/50\n",
      "2/2 [==============================] - 0s 33ms/step - loss: 0.0062\n",
      "Epoch 41/50\n",
      "2/2 [==============================] - 0s 28ms/step - loss: 0.0062\n",
      "Epoch 42/50\n",
      "2/2 [==============================] - 0s 28ms/step - loss: 0.0058\n",
      "Epoch 43/50\n",
      "2/2 [==============================] - 0s 30ms/step - loss: 0.0050\n",
      "Epoch 44/50\n",
      "2/2 [==============================] - 0s 31ms/step - loss: 0.0055\n",
      "Epoch 45/50\n",
      "2/2 [==============================] - 0s 30ms/step - loss: 0.0051\n",
      "Epoch 46/50\n",
      "2/2 [==============================] - 0s 31ms/step - loss: 0.0053\n",
      "Epoch 47/50\n",
      "2/2 [==============================] - 0s 30ms/step - loss: 0.0049\n",
      "Epoch 48/50\n",
      "2/2 [==============================] - 0s 28ms/step - loss: 0.0063\n",
      "Epoch 49/50\n",
      "2/2 [==============================] - 0s 27ms/step - loss: 0.0060\n",
      "Epoch 50/50\n",
      "2/2 [==============================] - 0s 26ms/step - loss: 0.0061\n"
     ]
    },
    {
     "data": {
      "text/plain": [
       "<keras.callbacks.History at 0x1c990c57148>"
      ]
     },
     "execution_count": 55,
     "metadata": {},
     "output_type": "execute_result"
    }
   ],
   "source": [
    "# Fitting to the training set\n",
    "regressorGRU.fit(X_train,y_train, epochs=50, batch_size=150)"
   ]
  },
  {
   "cell_type": "code",
   "execution_count": 56,
   "id": "80bfed9e-890d-4467-a926-0ed70401a392",
   "metadata": {},
   "outputs": [
    {
     "name": "stdout",
     "output_type": "stream",
     "text": [
      "4/4 [==============================] - 1s 6ms/step - loss: 6.0594e-04\n"
     ]
    },
    {
     "data": {
      "text/plain": [
       "0.0006059362203814089"
      ]
     },
     "execution_count": 56,
     "metadata": {},
     "output_type": "execute_result"
    }
   ],
   "source": [
    "regressorGRU.evaluate(X_test, y_test, verbose=1)"
   ]
  },
  {
   "cell_type": "code",
   "execution_count": 57,
   "id": "e067cc44-6ebd-46b2-ac18-360173c6640c",
   "metadata": {},
   "outputs": [],
   "source": [
    "predicted = regressorGRU.predict(X_test)"
   ]
  },
  {
   "cell_type": "code",
   "execution_count": 58,
   "id": "cb20cedc-0b46-4453-9dd1-7ac17ba2880f",
   "metadata": {},
   "outputs": [],
   "source": [
    "predicted_prices = scaler.inverse_transform(predicted)\n",
    "real_prices = scaler.inverse_transform(y_test.reshape(-1, 1))"
   ]
  },
  {
   "cell_type": "code",
   "execution_count": 59,
   "id": "e5b27828-4b0c-4a9b-ba7b-f6674c5556a5",
   "metadata": {},
   "outputs": [],
   "source": [
    "#mortgage = pd.DataFrame({\n",
    "#    \"Real\": real_prices.ravel(),\n",
    "#    \"Predicted\": predicted_prices.ravel()\n",
    "#}, index = df.index[-len(real_prices): ]) \n",
    "#mortgage.head()"
   ]
  },
  {
   "cell_type": "code",
   "execution_count": 60,
   "id": "04f1b572-8993-425b-8719-eed87fe266fb",
   "metadata": {},
   "outputs": [],
   "source": [
    "#mortgage.plot(title=\"Real Vs. Predicted\")"
   ]
  },
  {
   "cell_type": "code",
   "execution_count": 61,
   "id": "40051e1e-8930-441f-8f40-c39a3c32e7d0",
   "metadata": {},
   "outputs": [],
   "source": [
    "#X_test = []\n",
    "#for i in range(60,311):\n",
    "#    X_test.append(inputs[i-60:i,0])\n",
    "#X_test = np.array(X_test)\n",
    "#X_test = np.reshape(X_test, (X_test.shape[0],X_test.shape[1],1))\n",
    "#GRU_predicted_stock_price = regressorGRU.predict(X_test)\n",
    "#GRU_predicted_stock_price = sc.inverse_transform(GRU_predicted_stock_price)"
   ]
  },
  {
   "cell_type": "code",
   "execution_count": 62,
   "id": "fc41c2a3-4441-430e-b694-2d6f6930497b",
   "metadata": {},
   "outputs": [
    {
     "data": {
      "text/html": [
       "<div>\n",
       "<style scoped>\n",
       "    .dataframe tbody tr th:only-of-type {\n",
       "        vertical-align: middle;\n",
       "    }\n",
       "\n",
       "    .dataframe tbody tr th {\n",
       "        vertical-align: top;\n",
       "    }\n",
       "\n",
       "    .dataframe thead th {\n",
       "        text-align: right;\n",
       "    }\n",
       "</style>\n",
       "<table border=\"1\" class=\"dataframe\">\n",
       "  <thead>\n",
       "    <tr style=\"text-align: right;\">\n",
       "      <th></th>\n",
       "      <th>Real</th>\n",
       "      <th>Predicted</th>\n",
       "    </tr>\n",
       "    <tr>\n",
       "      <th>date</th>\n",
       "      <th></th>\n",
       "      <th></th>\n",
       "    </tr>\n",
       "  </thead>\n",
       "  <tbody>\n",
       "    <tr>\n",
       "      <th>2021-04-01</th>\n",
       "      <td>3.26</td>\n",
       "      <td>3.586741</td>\n",
       "    </tr>\n",
       "    <tr>\n",
       "      <th>2021-05-01</th>\n",
       "      <td>3.25</td>\n",
       "      <td>3.534044</td>\n",
       "    </tr>\n",
       "    <tr>\n",
       "      <th>2021-06-01</th>\n",
       "      <td>3.25</td>\n",
       "      <td>3.489607</td>\n",
       "    </tr>\n",
       "    <tr>\n",
       "      <th>2021-07-01</th>\n",
       "      <td>3.26</td>\n",
       "      <td>3.455429</td>\n",
       "    </tr>\n",
       "    <tr>\n",
       "      <th>2021-08-01</th>\n",
       "      <td>3.20</td>\n",
       "      <td>3.429320</td>\n",
       "    </tr>\n",
       "  </tbody>\n",
       "</table>\n",
       "</div>"
      ],
      "text/plain": [
       "            Real  Predicted\n",
       "date                       \n",
       "2021-04-01  3.26   3.586741\n",
       "2021-05-01  3.25   3.534044\n",
       "2021-06-01  3.25   3.489607\n",
       "2021-07-01  3.26   3.455429\n",
       "2021-08-01  3.20   3.429320"
      ]
     },
     "execution_count": 62,
     "metadata": {},
     "output_type": "execute_result"
    }
   ],
   "source": [
    "mortgage = pd.DataFrame({\n",
    "    \"Real\": real_prices.ravel(),\n",
    "    \"Predicted\": predicted_prices.ravel()\n",
    "}, index = df.index[-len(real_prices): ]) \n",
    "mortgage.tail()"
   ]
  },
  {
   "cell_type": "raw",
   "id": "371de10f-21cb-4e58-a9d5-8bd64f72bb4f",
   "metadata": {},
   "source": [
    "links key to this work:\n",
    "https://www.kaggle.com/thebrownviking20/intro-to-recurrent-neural-networks-lstm-gru - code sample from kaggle\n"
   ]
  },
  {
   "cell_type": "code",
   "execution_count": 63,
   "id": "3ff4b228-c932-440b-b346-b1684b4d9941",
   "metadata": {},
   "outputs": [
    {
     "data": {
      "text/plain": [
       "<AxesSubplot:title={'center':'Real Mortgage rate Vs. Predicted Mortgage rate'}, xlabel='date'>"
      ]
     },
     "execution_count": 63,
     "metadata": {},
     "output_type": "execute_result"
    },
    {
     "data": {
      "image/png": "[encoded data removed]",
      "text/plain": [
       "<Figure size 1440x720 with 1 Axes>"
      ]
     },
     "metadata": {},
     "output_type": "display_data"
    }
   ],
   "source": [
    "mortgage.plot(figsize=(20, 10), title=\"Real Mortgage rate Vs. Predicted Mortgage rate\")"
   ]
  },
  {
   "cell_type": "code",
   "execution_count": 32,
   "id": "97c3633e-e4ac-4ed0-ad62-244fdc69d414",
   "metadata": {},
   "outputs": [],
   "source": [
    "#def plot_multi_step(history, prediction1):\n",
    "    \n",
    "#    plt.figure(figsize=(15, 6))\n",
    "    \n",
    "#    range_history = len(history)\n",
    "#    range_future = list(range(range_history, range_history +\n",
    "#                        len(prediction1)))\n",
    "#    plt.plot(np.arange(range_history), np.array(history), \n",
    "#             label='History')\n",
    "#    plt.plot(range_future, np.array(prediction1),\n",
    "#             label='Forecasted for GRU')\n",
    "#    plt.plot(range_future, np.array(prediction2),\n",
    "#             label='Forecasted for BiLSTM')\n",
    "      \n",
    "#    plt.legend(loc='upper right')\n",
    "#    plt.xlabel('Time step (day)')\n",
    " #   plt.ylabel('Water demand (lit/day)')\n",
    "        \n",
    "#plot_multi_step(new_data, prediction_gru)"
   ]
  },
  {
   "cell_type": "code",
   "execution_count": 33,
   "id": "8a7220a1-e475-474b-ba35-c890bd77c3c6",
   "metadata": {},
   "outputs": [],
   "source": [
    "from keras.models import load_model\n",
    "\n",
    "regressorGRU.save('GRU_model.h5')"
   ]
  },
  {
   "cell_type": "code",
   "execution_count": 34,
   "id": "930d2c78-a321-4558-aca7-1269f9020a78",
   "metadata": {},
   "outputs": [],
   "source": [
    "model_gu = load_model('GRU_model.h5')"
   ]
  },
  {
   "cell_type": "code",
   "execution_count": 35,
   "id": "0c5c3905-995f-4887-882b-17faa2c679ba",
   "metadata": {},
   "outputs": [],
   "source": [
    "future_predictions = model_gu.predict(X, verbose=0)"
   ]
  },
  {
   "cell_type": "code",
   "execution_count": 36,
   "id": "97b1d7cd-342b-40b6-addd-2a321516a6a5",
   "metadata": {},
   "outputs": [
    {
     "data": {
      "text/plain": [
       "DatetimeIndex(['2021-09-01', '2021-10-01', '2021-11-01', '2021-12-01',\n",
       "               '2022-01-01', '2022-02-01', '2022-03-01', '2022-04-01',\n",
       "               '2022-05-01', '2022-06-01',\n",
       "               ...\n",
       "               '2050-09-01', '2050-10-01', '2050-11-01', '2050-12-01',\n",
       "               '2051-01-01', '2051-02-01', '2051-03-01', '2051-04-01',\n",
       "               '2051-05-01', '2051-06-01'],\n",
       "              dtype='datetime64[ns]', length=358, freq='MS')"
      ]
     },
     "execution_count": 36,
     "metadata": {},
     "output_type": "execute_result"
    }
   ],
   "source": [
    "future_df = pd.DataFrame(future_predictions)\n",
    "future_index = pd.date_range(start='2021-09-01', periods=358, freq='MS')\n",
    "future_index"
   ]
  },
  {
   "cell_type": "code",
   "execution_count": 37,
   "id": "3af13955-13e0-4ed2-b678-f9c1afa8add6",
   "metadata": {},
   "outputs": [],
   "source": [
    "future_df['date'] = future_index\n",
    "future_df.set_index('date', inplace=True)"
   ]
  },
  {
   "cell_type": "code",
   "execution_count": 38,
   "id": "a9d5d9ac-b5a8-4c2d-aeb7-bbfcad18d501",
   "metadata": {},
   "outputs": [],
   "source": [
    "future_df_5 = future_df.loc[:'2026-08-01']"
   ]
  },
  {
   "cell_type": "code",
   "execution_count": 39,
   "id": "573d2926-f481-4a77-9573-f4101c250140",
   "metadata": {},
   "outputs": [
    {
     "data": {
      "text/plain": [
       "<AxesSubplot:title={'center':'Predicted'}, xlabel='date'>"
      ]
     },
     "execution_count": 39,
     "metadata": {},
     "output_type": "execute_result"
    },
    {
     "data": {
      "image/png": "[encoded data removed]",
      "text/plain": [
       "<Figure size 1440x720 with 1 Axes>"
      ]
     },
     "metadata": {},
     "output_type": "display_data"
    }
   ],
   "source": [
    "future_df_5.plot(figsize=(20, 10), title='Predicted')"
   ]
  },
  {
   "cell_type": "code",
   "execution_count": null,
   "id": "6fd6a70d-a5d0-43b9-96a1-4e33b717a76f",
   "metadata": {},
   "outputs": [],
   "source": []
  }
 ],
 "metadata": {
  "kernelspec": {
   "display_name": "Python 3",
   "language": "python",
   "name": "python3"
  },
  "language_info": {
   "codemirror_mode": {
    "name": "ipython",
    "version": 3
   },
   "file_extension": ".py",
   "mimetype": "text/x-python",
   "name": "python",
   "nbconvert_exporter": "python",
   "pygments_lexer": "ipython3",
   "version": "3.7.10"
  }
 },
 "nbformat": 4,
 "nbformat_minor": 5
}
