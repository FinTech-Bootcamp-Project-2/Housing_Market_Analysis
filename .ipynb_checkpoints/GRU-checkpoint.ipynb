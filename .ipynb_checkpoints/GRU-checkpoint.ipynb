{
 "cells": [
  {
   "cell_type": "code",
   "execution_count": 88,
   "id": "d6a5464d-fa60-4763-a66c-48441339f458",
   "metadata": {},
   "outputs": [],
   "source": [
    "import numpy as np\n",
    "import matplotlib.pyplot as plt\n",
    "plt.style.use('fivethirtyeight')\n",
    "import pandas as pd\n",
    "from sklearn.preprocessing import MinMaxScaler\n",
    "from keras.models import Sequential\n",
    "from keras.layers import GRU, Dense\n",
    "import math\n",
    "from sklearn.metrics import mean_squared_error\n",
    "\n",
    "from tensorflow.keras.optimizers import SGD"
   ]
  },
  {
   "cell_type": "code",
   "execution_count": 89,
   "id": "39032311-cc94-42e4-b5a4-0de6fe9b2934",
   "metadata": {},
   "outputs": [
    {
     "data": {
      "text/html": [
       "<div>\n",
       "<style scoped>\n",
       "    .dataframe tbody tr th:only-of-type {\n",
       "        vertical-align: middle;\n",
       "    }\n",
       "\n",
       "    .dataframe tbody tr th {\n",
       "        vertical-align: top;\n",
       "    }\n",
       "\n",
       "    .dataframe thead th {\n",
       "        text-align: right;\n",
       "    }\n",
       "</style>\n",
       "<table border=\"1\" class=\"dataframe\">\n",
       "  <thead>\n",
       "    <tr style=\"text-align: right;\">\n",
       "      <th></th>\n",
       "      <th>Unnamed: 0</th>\n",
       "      <th>CANLORSGPNOSTSAM</th>\n",
       "      <th>inflation_common</th>\n",
       "      <th>inflation_trimmed_median</th>\n",
       "      <th>inflation_weighted_median</th>\n",
       "      <th>employment_rate</th>\n",
       "      <th>unemployment_rate</th>\n",
       "      <th>participation_rate</th>\n",
       "      <th>5_year_bond_benchmark</th>\n",
       "      <th>10_year_bond_benchmark</th>\n",
       "      <th>long_term_bond_benchmark</th>\n",
       "      <th>Bank of Canada Target Overnight Rate</th>\n",
       "      <th>Mortgage Rate</th>\n",
       "    </tr>\n",
       "  </thead>\n",
       "  <tbody>\n",
       "    <tr>\n",
       "      <th>0</th>\n",
       "      <td>1990-01-01</td>\n",
       "      <td>102.220629</td>\n",
       "      <td>3.4</td>\n",
       "      <td>4.9</td>\n",
       "      <td>4.7</td>\n",
       "      <td>60.4</td>\n",
       "      <td>8.7</td>\n",
       "      <td>66.1</td>\n",
       "      <td>10.045000</td>\n",
       "      <td>9.965000</td>\n",
       "      <td>9.820000</td>\n",
       "      <td>12.04</td>\n",
       "      <td>12.01</td>\n",
       "    </tr>\n",
       "    <tr>\n",
       "      <th>1</th>\n",
       "      <td>1990-02-01</td>\n",
       "      <td>102.203404</td>\n",
       "      <td>3.3</td>\n",
       "      <td>4.7</td>\n",
       "      <td>4.5</td>\n",
       "      <td>60.6</td>\n",
       "      <td>8.4</td>\n",
       "      <td>66.2</td>\n",
       "      <td>10.538182</td>\n",
       "      <td>10.253636</td>\n",
       "      <td>9.999091</td>\n",
       "      <td>13.00</td>\n",
       "      <td>12.42</td>\n",
       "    </tr>\n",
       "    <tr>\n",
       "      <th>2</th>\n",
       "      <td>1990-03-01</td>\n",
       "      <td>102.130889</td>\n",
       "      <td>3.4</td>\n",
       "      <td>4.6</td>\n",
       "      <td>4.3</td>\n",
       "      <td>60.7</td>\n",
       "      <td>8.3</td>\n",
       "      <td>66.2</td>\n",
       "      <td>11.147692</td>\n",
       "      <td>10.761538</td>\n",
       "      <td>10.596154</td>\n",
       "      <td>13.13</td>\n",
       "      <td>12.92</td>\n",
       "    </tr>\n",
       "    <tr>\n",
       "      <th>3</th>\n",
       "      <td>1990-04-01</td>\n",
       "      <td>101.995714</td>\n",
       "      <td>3.5</td>\n",
       "      <td>4.5</td>\n",
       "      <td>4.2</td>\n",
       "      <td>61.1</td>\n",
       "      <td>7.9</td>\n",
       "      <td>66.4</td>\n",
       "      <td>12.175000</td>\n",
       "      <td>11.519286</td>\n",
       "      <td>11.275714</td>\n",
       "      <td>13.52</td>\n",
       "      <td>13.67</td>\n",
       "    </tr>\n",
       "    <tr>\n",
       "      <th>4</th>\n",
       "      <td>1990-05-01</td>\n",
       "      <td>101.800030</td>\n",
       "      <td>3.6</td>\n",
       "      <td>4.3</td>\n",
       "      <td>4.0</td>\n",
       "      <td>62.4</td>\n",
       "      <td>7.8</td>\n",
       "      <td>67.6</td>\n",
       "      <td>11.741538</td>\n",
       "      <td>11.125385</td>\n",
       "      <td>10.990000</td>\n",
       "      <td>13.80</td>\n",
       "      <td>14.21</td>\n",
       "    </tr>\n",
       "  </tbody>\n",
       "</table>\n",
       "</div>"
      ],
      "text/plain": [
       "   Unnamed: 0  CANLORSGPNOSTSAM  inflation_common  inflation_trimmed_median  \\\n",
       "0  1990-01-01        102.220629               3.4                       4.9   \n",
       "1  1990-02-01        102.203404               3.3                       4.7   \n",
       "2  1990-03-01        102.130889               3.4                       4.6   \n",
       "3  1990-04-01        101.995714               3.5                       4.5   \n",
       "4  1990-05-01        101.800030               3.6                       4.3   \n",
       "\n",
       "   inflation_weighted_median  employment_rate  unemployment_rate  \\\n",
       "0                        4.7             60.4                8.7   \n",
       "1                        4.5             60.6                8.4   \n",
       "2                        4.3             60.7                8.3   \n",
       "3                        4.2             61.1                7.9   \n",
       "4                        4.0             62.4                7.8   \n",
       "\n",
       "   participation_rate  5_year_bond_benchmark  10_year_bond_benchmark  \\\n",
       "0                66.1              10.045000                9.965000   \n",
       "1                66.2              10.538182               10.253636   \n",
       "2                66.2              11.147692               10.761538   \n",
       "3                66.4              12.175000               11.519286   \n",
       "4                67.6              11.741538               11.125385   \n",
       "\n",
       "   long_term_bond_benchmark  Bank of Canada Target Overnight Rate  \\\n",
       "0                  9.820000                                 12.04   \n",
       "1                  9.999091                                 13.00   \n",
       "2                 10.596154                                 13.13   \n",
       "3                 11.275714                                 13.52   \n",
       "4                 10.990000                                 13.80   \n",
       "\n",
       "   Mortgage Rate  \n",
       "0          12.01  \n",
       "1          12.42  \n",
       "2          12.92  \n",
       "3          13.67  \n",
       "4          14.21  "
      ]
     },
     "execution_count": 89,
     "metadata": {},
     "output_type": "execute_result"
    }
   ],
   "source": [
    "data = Path('cleaned_data.csv')\n",
    "#df = pd.read_csv(data, index_col='Unnamed: 0')\n",
    "df = pd.read_csv(data)\n",
    "df.head()"
   ]
  },
  {
   "cell_type": "code",
   "execution_count": 90,
   "id": "7afd8864-2dac-40dc-9bfd-be466332bb79",
   "metadata": {},
   "outputs": [
    {
     "data": {
      "text/html": [
       "<div>\n",
       "<style scoped>\n",
       "    .dataframe tbody tr th:only-of-type {\n",
       "        vertical-align: middle;\n",
       "    }\n",
       "\n",
       "    .dataframe tbody tr th {\n",
       "        vertical-align: top;\n",
       "    }\n",
       "\n",
       "    .dataframe thead th {\n",
       "        text-align: right;\n",
       "    }\n",
       "</style>\n",
       "<table border=\"1\" class=\"dataframe\">\n",
       "  <thead>\n",
       "    <tr style=\"text-align: right;\">\n",
       "      <th></th>\n",
       "      <th>date</th>\n",
       "      <th>CANLORSGPNOSTSAM</th>\n",
       "      <th>inflation_common</th>\n",
       "      <th>inflation_trimmed_median</th>\n",
       "      <th>inflation_weighted_median</th>\n",
       "      <th>employment_rate</th>\n",
       "      <th>unemployment_rate</th>\n",
       "      <th>participation_rate</th>\n",
       "      <th>5_year_bond_benchmark</th>\n",
       "      <th>10_year_bond_benchmark</th>\n",
       "      <th>long_term_bond_benchmark</th>\n",
       "      <th>Bank of Canada Target Overnight Rate</th>\n",
       "      <th>mortgage_rate</th>\n",
       "    </tr>\n",
       "  </thead>\n",
       "  <tbody>\n",
       "    <tr>\n",
       "      <th>0</th>\n",
       "      <td>1990-01-01</td>\n",
       "      <td>102.220629</td>\n",
       "      <td>3.4</td>\n",
       "      <td>4.9</td>\n",
       "      <td>4.7</td>\n",
       "      <td>60.4</td>\n",
       "      <td>8.7</td>\n",
       "      <td>66.1</td>\n",
       "      <td>10.045000</td>\n",
       "      <td>9.965000</td>\n",
       "      <td>9.820000</td>\n",
       "      <td>12.04</td>\n",
       "      <td>12.01</td>\n",
       "    </tr>\n",
       "    <tr>\n",
       "      <th>1</th>\n",
       "      <td>1990-02-01</td>\n",
       "      <td>102.203404</td>\n",
       "      <td>3.3</td>\n",
       "      <td>4.7</td>\n",
       "      <td>4.5</td>\n",
       "      <td>60.6</td>\n",
       "      <td>8.4</td>\n",
       "      <td>66.2</td>\n",
       "      <td>10.538182</td>\n",
       "      <td>10.253636</td>\n",
       "      <td>9.999091</td>\n",
       "      <td>13.00</td>\n",
       "      <td>12.42</td>\n",
       "    </tr>\n",
       "    <tr>\n",
       "      <th>2</th>\n",
       "      <td>1990-03-01</td>\n",
       "      <td>102.130889</td>\n",
       "      <td>3.4</td>\n",
       "      <td>4.6</td>\n",
       "      <td>4.3</td>\n",
       "      <td>60.7</td>\n",
       "      <td>8.3</td>\n",
       "      <td>66.2</td>\n",
       "      <td>11.147692</td>\n",
       "      <td>10.761538</td>\n",
       "      <td>10.596154</td>\n",
       "      <td>13.13</td>\n",
       "      <td>12.92</td>\n",
       "    </tr>\n",
       "    <tr>\n",
       "      <th>3</th>\n",
       "      <td>1990-04-01</td>\n",
       "      <td>101.995714</td>\n",
       "      <td>3.5</td>\n",
       "      <td>4.5</td>\n",
       "      <td>4.2</td>\n",
       "      <td>61.1</td>\n",
       "      <td>7.9</td>\n",
       "      <td>66.4</td>\n",
       "      <td>12.175000</td>\n",
       "      <td>11.519286</td>\n",
       "      <td>11.275714</td>\n",
       "      <td>13.52</td>\n",
       "      <td>13.67</td>\n",
       "    </tr>\n",
       "    <tr>\n",
       "      <th>4</th>\n",
       "      <td>1990-05-01</td>\n",
       "      <td>101.800030</td>\n",
       "      <td>3.6</td>\n",
       "      <td>4.3</td>\n",
       "      <td>4.0</td>\n",
       "      <td>62.4</td>\n",
       "      <td>7.8</td>\n",
       "      <td>67.6</td>\n",
       "      <td>11.741538</td>\n",
       "      <td>11.125385</td>\n",
       "      <td>10.990000</td>\n",
       "      <td>13.80</td>\n",
       "      <td>14.21</td>\n",
       "    </tr>\n",
       "  </tbody>\n",
       "</table>\n",
       "</div>"
      ],
      "text/plain": [
       "         date  CANLORSGPNOSTSAM  inflation_common  inflation_trimmed_median  \\\n",
       "0  1990-01-01        102.220629               3.4                       4.9   \n",
       "1  1990-02-01        102.203404               3.3                       4.7   \n",
       "2  1990-03-01        102.130889               3.4                       4.6   \n",
       "3  1990-04-01        101.995714               3.5                       4.5   \n",
       "4  1990-05-01        101.800030               3.6                       4.3   \n",
       "\n",
       "   inflation_weighted_median  employment_rate  unemployment_rate  \\\n",
       "0                        4.7             60.4                8.7   \n",
       "1                        4.5             60.6                8.4   \n",
       "2                        4.3             60.7                8.3   \n",
       "3                        4.2             61.1                7.9   \n",
       "4                        4.0             62.4                7.8   \n",
       "\n",
       "   participation_rate  5_year_bond_benchmark  10_year_bond_benchmark  \\\n",
       "0                66.1              10.045000                9.965000   \n",
       "1                66.2              10.538182               10.253636   \n",
       "2                66.2              11.147692               10.761538   \n",
       "3                66.4              12.175000               11.519286   \n",
       "4                67.6              11.741538               11.125385   \n",
       "\n",
       "   long_term_bond_benchmark  Bank of Canada Target Overnight Rate  \\\n",
       "0                  9.820000                                 12.04   \n",
       "1                  9.999091                                 13.00   \n",
       "2                 10.596154                                 13.13   \n",
       "3                 11.275714                                 13.52   \n",
       "4                 10.990000                                 13.80   \n",
       "\n",
       "   mortgage_rate  \n",
       "0          12.01  \n",
       "1          12.42  \n",
       "2          12.92  \n",
       "3          13.67  \n",
       "4          14.21  "
      ]
     },
     "execution_count": 90,
     "metadata": {},
     "output_type": "execute_result"
    }
   ],
   "source": [
    "df = df.rename({'Unnamed: 0': 'date', 'Mortgage Rate': 'mortgage_rate'}, axis=1)\n",
    "df.head()"
   ]
  },
  {
   "cell_type": "code",
   "execution_count": 91,
   "id": "913ed3c7-b12b-4c2a-9571-b53c87d88377",
   "metadata": {},
   "outputs": [
    {
     "data": {
      "text/html": [
       "<div>\n",
       "<style scoped>\n",
       "    .dataframe tbody tr th:only-of-type {\n",
       "        vertical-align: middle;\n",
       "    }\n",
       "\n",
       "    .dataframe tbody tr th {\n",
       "        vertical-align: top;\n",
       "    }\n",
       "\n",
       "    .dataframe thead th {\n",
       "        text-align: right;\n",
       "    }\n",
       "</style>\n",
       "<table border=\"1\" class=\"dataframe\">\n",
       "  <thead>\n",
       "    <tr style=\"text-align: right;\">\n",
       "      <th></th>\n",
       "      <th>CANLORSGPNOSTSAM</th>\n",
       "      <th>inflation_common</th>\n",
       "      <th>inflation_trimmed_median</th>\n",
       "      <th>inflation_weighted_median</th>\n",
       "      <th>employment_rate</th>\n",
       "      <th>unemployment_rate</th>\n",
       "      <th>participation_rate</th>\n",
       "      <th>5_year_bond_benchmark</th>\n",
       "      <th>10_year_bond_benchmark</th>\n",
       "      <th>long_term_bond_benchmark</th>\n",
       "      <th>Bank of Canada Target Overnight Rate</th>\n",
       "      <th>mortgage_rate</th>\n",
       "    </tr>\n",
       "    <tr>\n",
       "      <th>date</th>\n",
       "      <th></th>\n",
       "      <th></th>\n",
       "      <th></th>\n",
       "      <th></th>\n",
       "      <th></th>\n",
       "      <th></th>\n",
       "      <th></th>\n",
       "      <th></th>\n",
       "      <th></th>\n",
       "      <th></th>\n",
       "      <th></th>\n",
       "      <th></th>\n",
       "    </tr>\n",
       "  </thead>\n",
       "  <tbody>\n",
       "    <tr>\n",
       "      <th>1990-01-01</th>\n",
       "      <td>102.220629</td>\n",
       "      <td>3.4</td>\n",
       "      <td>4.9</td>\n",
       "      <td>4.7</td>\n",
       "      <td>60.4</td>\n",
       "      <td>8.7</td>\n",
       "      <td>66.1</td>\n",
       "      <td>10.045000</td>\n",
       "      <td>9.965000</td>\n",
       "      <td>9.820000</td>\n",
       "      <td>12.04</td>\n",
       "      <td>12.01</td>\n",
       "    </tr>\n",
       "    <tr>\n",
       "      <th>1990-02-01</th>\n",
       "      <td>102.203404</td>\n",
       "      <td>3.3</td>\n",
       "      <td>4.7</td>\n",
       "      <td>4.5</td>\n",
       "      <td>60.6</td>\n",
       "      <td>8.4</td>\n",
       "      <td>66.2</td>\n",
       "      <td>10.538182</td>\n",
       "      <td>10.253636</td>\n",
       "      <td>9.999091</td>\n",
       "      <td>13.00</td>\n",
       "      <td>12.42</td>\n",
       "    </tr>\n",
       "    <tr>\n",
       "      <th>1990-03-01</th>\n",
       "      <td>102.130889</td>\n",
       "      <td>3.4</td>\n",
       "      <td>4.6</td>\n",
       "      <td>4.3</td>\n",
       "      <td>60.7</td>\n",
       "      <td>8.3</td>\n",
       "      <td>66.2</td>\n",
       "      <td>11.147692</td>\n",
       "      <td>10.761538</td>\n",
       "      <td>10.596154</td>\n",
       "      <td>13.13</td>\n",
       "      <td>12.92</td>\n",
       "    </tr>\n",
       "    <tr>\n",
       "      <th>1990-04-01</th>\n",
       "      <td>101.995714</td>\n",
       "      <td>3.5</td>\n",
       "      <td>4.5</td>\n",
       "      <td>4.2</td>\n",
       "      <td>61.1</td>\n",
       "      <td>7.9</td>\n",
       "      <td>66.4</td>\n",
       "      <td>12.175000</td>\n",
       "      <td>11.519286</td>\n",
       "      <td>11.275714</td>\n",
       "      <td>13.52</td>\n",
       "      <td>13.67</td>\n",
       "    </tr>\n",
       "    <tr>\n",
       "      <th>1990-05-01</th>\n",
       "      <td>101.800030</td>\n",
       "      <td>3.6</td>\n",
       "      <td>4.3</td>\n",
       "      <td>4.0</td>\n",
       "      <td>62.4</td>\n",
       "      <td>7.8</td>\n",
       "      <td>67.6</td>\n",
       "      <td>11.741538</td>\n",
       "      <td>11.125385</td>\n",
       "      <td>10.990000</td>\n",
       "      <td>13.80</td>\n",
       "      <td>14.21</td>\n",
       "    </tr>\n",
       "  </tbody>\n",
       "</table>\n",
       "</div>"
      ],
      "text/plain": [
       "            CANLORSGPNOSTSAM  inflation_common  inflation_trimmed_median  \\\n",
       "date                                                                       \n",
       "1990-01-01        102.220629               3.4                       4.9   \n",
       "1990-02-01        102.203404               3.3                       4.7   \n",
       "1990-03-01        102.130889               3.4                       4.6   \n",
       "1990-04-01        101.995714               3.5                       4.5   \n",
       "1990-05-01        101.800030               3.6                       4.3   \n",
       "\n",
       "            inflation_weighted_median  employment_rate  unemployment_rate  \\\n",
       "date                                                                        \n",
       "1990-01-01                        4.7             60.4                8.7   \n",
       "1990-02-01                        4.5             60.6                8.4   \n",
       "1990-03-01                        4.3             60.7                8.3   \n",
       "1990-04-01                        4.2             61.1                7.9   \n",
       "1990-05-01                        4.0             62.4                7.8   \n",
       "\n",
       "            participation_rate  5_year_bond_benchmark  10_year_bond_benchmark  \\\n",
       "date                                                                            \n",
       "1990-01-01                66.1              10.045000                9.965000   \n",
       "1990-02-01                66.2              10.538182               10.253636   \n",
       "1990-03-01                66.2              11.147692               10.761538   \n",
       "1990-04-01                66.4              12.175000               11.519286   \n",
       "1990-05-01                67.6              11.741538               11.125385   \n",
       "\n",
       "            long_term_bond_benchmark  Bank of Canada Target Overnight Rate  \\\n",
       "date                                                                         \n",
       "1990-01-01                  9.820000                                 12.04   \n",
       "1990-02-01                  9.999091                                 13.00   \n",
       "1990-03-01                 10.596154                                 13.13   \n",
       "1990-04-01                 11.275714                                 13.52   \n",
       "1990-05-01                 10.990000                                 13.80   \n",
       "\n",
       "            mortgage_rate  \n",
       "date                       \n",
       "1990-01-01          12.01  \n",
       "1990-02-01          12.42  \n",
       "1990-03-01          12.92  \n",
       "1990-04-01          13.67  \n",
       "1990-05-01          14.21  "
      ]
     },
     "execution_count": 91,
     "metadata": {},
     "output_type": "execute_result"
    }
   ],
   "source": [
    "df.set_index('date', inplace=True)\n",
    "df.head()"
   ]
  },
  {
   "cell_type": "code",
   "execution_count": 92,
   "id": "d8fca432-326f-4769-9c27-74e18d0e64d1",
   "metadata": {},
   "outputs": [],
   "source": [
    "X = df.drop(['mortgage_rate'], axis=1)\n",
    "y = df['mortgage_rate']"
   ]
  },
  {
   "cell_type": "code",
   "execution_count": 93,
   "id": "9eb00b1a-6355-4e41-b570-e924d76a802b",
   "metadata": {},
   "outputs": [],
   "source": [
    "def window_data(df, window, feature_col_number, target_col_number):\n",
    "    X = []\n",
    "    y = []\n",
    "    for i in range(len(df) - window - 1):\n",
    "        features = df.iloc[i:(i + window), feature_col_number]\n",
    "        target = df.iloc[(i + window), target_col_number]\n",
    "        X.append(features)\n",
    "        y.append(target)\n",
    "    return np.array(X), np.array(y).reshape(-1, 1)"
   ]
  },
  {
   "cell_type": "code",
   "execution_count": 94,
   "id": "7277e5fb-045c-49b5-adf5-15bf3a54396c",
   "metadata": {},
   "outputs": [],
   "source": [
    "window_size = 10\n",
    "\n",
    "feature_column = 1\n",
    "target_column = 1\n",
    "X, y = window_data(df, window_size, feature_column, target_column)"
   ]
  },
  {
   "cell_type": "code",
   "execution_count": 95,
   "id": "6d11db47-3fe3-4881-b243-288a54ee2912",
   "metadata": {},
   "outputs": [],
   "source": [
    "split = int(0.7 * len(X))\n",
    "X_train = X[: split]\n",
    "X_test = X[split:]\n",
    "y_train = y[: split]\n",
    "y_test = y[split:]"
   ]
  },
  {
   "cell_type": "code",
   "execution_count": 96,
   "id": "f36c8d44-0b1d-4265-81b7-fd5ee4f1a423",
   "metadata": {},
   "outputs": [],
   "source": [
    "from sklearn.preprocessing import MinMaxScaler\n",
    "# Use the MinMaxScaler to scale data between 0 and 1.\n",
    "\n",
    "scaler = MinMaxScaler()\n",
    "\n",
    "scaler.fit(X_train)\n",
    "\n",
    "X_train = scaler.transform(X_train)\n",
    "X_test = scaler.transform(X_test)\n",
    "\n",
    "scaler.fit(y_train)\n",
    "\n",
    "y_train = scaler.transform(y_train)\n",
    "y_test = scaler.transform(y_test) "
   ]
  },
  {
   "cell_type": "code",
   "execution_count": 97,
   "id": "f6198a36-7818-4e0b-8716-f663eb56ec6d",
   "metadata": {},
   "outputs": [
    {
     "data": {
      "text/plain": [
       "250"
      ]
     },
     "execution_count": 97,
     "metadata": {},
     "output_type": "execute_result"
    }
   ],
   "source": [
    "X_train.shape[0]"
   ]
  },
  {
   "cell_type": "code",
   "execution_count": 98,
   "id": "55dba29c-ee6f-477d-bb9e-5e8aed473383",
   "metadata": {},
   "outputs": [
    {
     "data": {
      "text/plain": [
       "10"
      ]
     },
     "execution_count": 98,
     "metadata": {},
     "output_type": "execute_result"
    }
   ],
   "source": [
    "X_train.shape[1]"
   ]
  },
  {
   "cell_type": "code",
   "execution_count": 99,
   "id": "391085a2-1ec9-4a7d-b5eb-60a32e933e37",
   "metadata": {},
   "outputs": [],
   "source": [
    "X_train = X_train.reshape((X_train.shape[0], X_train.shape[1], 1))\n",
    "X_test = X_test.reshape((X_test.shape[0], X_test.shape[1], 1))"
   ]
  },
  {
   "cell_type": "markdown",
   "id": "3da5c8bb-240a-4221-8942-92b82c08f86f",
   "metadata": {},
   "source": [
    "## Using GRU(Gated Recurrent Units)"
   ]
  },
  {
   "cell_type": "code",
   "execution_count": 100,
   "id": "1bb8526c-6362-4744-85f5-5151a88b4d2a",
   "metadata": {},
   "outputs": [],
   "source": [
    "# The GRU architecture\n",
    "regressorGRU = Sequential()"
   ]
  },
  {
   "cell_type": "code",
   "execution_count": 101,
   "id": "e3c83175-8013-4b35-a5eb-f3113ce4698e",
   "metadata": {},
   "outputs": [],
   "source": [
    "# First GRU layer with Dropout regularisation\n",
    "regressorGRU.add(GRU(units=50, return_sequences=True, input_shape=(X_train.shape[1],1), activation='tanh'))\n",
    "regressorGRU.add(Dropout(0.2))"
   ]
  },
  {
   "cell_type": "code",
   "execution_count": 102,
   "id": "0a701d2a-52cd-40da-a01d-3d79af25cca3",
   "metadata": {},
   "outputs": [],
   "source": [
    "# Second GRU layer\n",
    "regressorGRU.add(GRU(units=50, return_sequences=True, input_shape=(X_train.shape[1],1), activation='tanh'))\n",
    "regressorGRU.add(Dropout(0.2))"
   ]
  },
  {
   "cell_type": "code",
   "execution_count": 103,
   "id": "d16750ab-0441-4ae5-8e40-46ecae089c4b",
   "metadata": {},
   "outputs": [],
   "source": [
    "# Third GRU layer\n",
    "regressorGRU.add(GRU(units=50, return_sequences=True, input_shape=(X_train.shape[1],1), activation='tanh'))\n",
    "regressorGRU.add(Dropout(0.2))"
   ]
  },
  {
   "cell_type": "code",
   "execution_count": 104,
   "id": "a206e827-5fc1-4b89-b8f9-366e95fe45d8",
   "metadata": {},
   "outputs": [],
   "source": [
    "# Fourth GRU layer\n",
    "regressorGRU.add(GRU(units=50, activation='tanh'))\n",
    "regressorGRU.add(Dropout(0.2))"
   ]
  },
  {
   "cell_type": "code",
   "execution_count": 105,
   "id": "8a7cb0c7-ab35-44d6-b404-dd7eb9d907b6",
   "metadata": {},
   "outputs": [],
   "source": [
    "# The output layer\n",
    "regressorGRU.add(Dense(units=1))"
   ]
  },
  {
   "cell_type": "code",
   "execution_count": 106,
   "id": "c922f5c1-9986-4715-810b-23578a8bf6f8",
   "metadata": {},
   "outputs": [],
   "source": [
    "# Compiling the RNN\n",
    "regressorGRU.compile(optimizer=SGD(learning_rate=0.01, decay=1e-7, momentum=0.9, nesterov=False),loss='mean_squared_error')"
   ]
  },
  {
   "cell_type": "code",
   "execution_count": 107,
   "id": "9bbc4469-0a4a-42cc-b81f-c1f5bf6a70f9",
   "metadata": {},
   "outputs": [
    {
     "name": "stdout",
     "output_type": "stream",
     "text": [
      "Epoch 1/50\n",
      "2/2 [==============================] - 5s 29ms/step - loss: 0.1212\n",
      "Epoch 2/50\n",
      "2/2 [==============================] - 0s 34ms/step - loss: 0.0746\n",
      "Epoch 3/50\n",
      "2/2 [==============================] - 0s 27ms/step - loss: 0.0356\n",
      "Epoch 4/50\n",
      "2/2 [==============================] - 0s 26ms/step - loss: 0.0332\n",
      "Epoch 5/50\n",
      "2/2 [==============================] - 0s 25ms/step - loss: 0.0524\n",
      "Epoch 6/50\n",
      "2/2 [==============================] - 0s 25ms/step - loss: 0.0582\n",
      "Epoch 7/50\n",
      "2/2 [==============================] - 0s 25ms/step - loss: 0.0444\n",
      "Epoch 8/50\n",
      "2/2 [==============================] - 0s 26ms/step - loss: 0.0295\n",
      "Epoch 9/50\n",
      "2/2 [==============================] - 0s 25ms/step - loss: 0.0269\n",
      "Epoch 10/50\n",
      "2/2 [==============================] - 0s 24ms/step - loss: 0.0330\n",
      "Epoch 11/50\n",
      "2/2 [==============================] - 0s 26ms/step - loss: 0.0357\n",
      "Epoch 12/50\n",
      "2/2 [==============================] - 0s 26ms/step - loss: 0.0299\n",
      "Epoch 13/50\n",
      "2/2 [==============================] - 0s 25ms/step - loss: 0.0246\n",
      "Epoch 14/50\n",
      "2/2 [==============================] - 0s 25ms/step - loss: 0.0211\n",
      "Epoch 15/50\n",
      "2/2 [==============================] - 0s 27ms/step - loss: 0.0216\n",
      "Epoch 16/50\n",
      "2/2 [==============================] - 0s 24ms/step - loss: 0.0237\n",
      "Epoch 17/50\n",
      "2/2 [==============================] - 0s 25ms/step - loss: 0.0236\n",
      "Epoch 18/50\n",
      "2/2 [==============================] - 0s 26ms/step - loss: 0.0188\n",
      "Epoch 19/50\n",
      "2/2 [==============================] - 0s 25ms/step - loss: 0.0195\n",
      "Epoch 20/50\n",
      "2/2 [==============================] - 0s 26ms/step - loss: 0.0185\n",
      "Epoch 21/50\n",
      "2/2 [==============================] - 0s 26ms/step - loss: 0.0198\n",
      "Epoch 22/50\n",
      "2/2 [==============================] - 0s 26ms/step - loss: 0.0169\n",
      "Epoch 23/50\n",
      "2/2 [==============================] - 0s 25ms/step - loss: 0.0164\n",
      "Epoch 24/50\n",
      "2/2 [==============================] - 0s 25ms/step - loss: 0.0162\n",
      "Epoch 25/50\n",
      "2/2 [==============================] - 0s 26ms/step - loss: 0.0148\n",
      "Epoch 26/50\n",
      "2/2 [==============================] - 0s 35ms/step - loss: 0.0154\n",
      "Epoch 27/50\n",
      "2/2 [==============================] - 0s 28ms/step - loss: 0.0129\n",
      "Epoch 28/50\n",
      "2/2 [==============================] - 0s 25ms/step - loss: 0.0126\n",
      "Epoch 29/50\n",
      "2/2 [==============================] - 0s 24ms/step - loss: 0.0146\n",
      "Epoch 30/50\n",
      "2/2 [==============================] - 0s 24ms/step - loss: 0.0132\n",
      "Epoch 31/50\n",
      "2/2 [==============================] - 0s 25ms/step - loss: 0.0116\n",
      "Epoch 32/50\n",
      "2/2 [==============================] - 0s 25ms/step - loss: 0.0120\n",
      "Epoch 33/50\n",
      "2/2 [==============================] - 0s 24ms/step - loss: 0.0102\n",
      "Epoch 34/50\n",
      "2/2 [==============================] - 0s 25ms/step - loss: 0.0104\n",
      "Epoch 35/50\n",
      "2/2 [==============================] - 0s 24ms/step - loss: 0.0104\n",
      "Epoch 36/50\n",
      "2/2 [==============================] - 0s 23ms/step - loss: 0.0097\n",
      "Epoch 37/50\n",
      "2/2 [==============================] - 0s 25ms/step - loss: 0.0092\n",
      "Epoch 38/50\n",
      "2/2 [==============================] - 0s 25ms/step - loss: 0.0083\n",
      "Epoch 39/50\n",
      "2/2 [==============================] - 0s 31ms/step - loss: 0.0078\n",
      "Epoch 40/50\n",
      "2/2 [==============================] - 0s 24ms/step - loss: 0.0078\n",
      "Epoch 41/50\n",
      "2/2 [==============================] - 0s 24ms/step - loss: 0.0078\n",
      "Epoch 42/50\n",
      "2/2 [==============================] - 0s 24ms/step - loss: 0.0072\n",
      "Epoch 43/50\n",
      "2/2 [==============================] - 0s 27ms/step - loss: 0.0077\n",
      "Epoch 44/50\n",
      "2/2 [==============================] - 0s 25ms/step - loss: 0.0072\n",
      "Epoch 45/50\n",
      "2/2 [==============================] - 0s 25ms/step - loss: 0.0069\n",
      "Epoch 46/50\n",
      "2/2 [==============================] - 0s 24ms/step - loss: 0.0066\n",
      "Epoch 47/50\n",
      "2/2 [==============================] - 0s 31ms/step - loss: 0.0067\n",
      "Epoch 48/50\n",
      "2/2 [==============================] - 0s 27ms/step - loss: 0.0070\n",
      "Epoch 49/50\n",
      "2/2 [==============================] - 0s 25ms/step - loss: 0.0070\n",
      "Epoch 50/50\n",
      "2/2 [==============================] - 0s 23ms/step - loss: 0.0071\n"
     ]
    },
    {
     "data": {
      "text/plain": [
       "<keras.callbacks.History at 0x180cae5eb88>"
      ]
     },
     "execution_count": 107,
     "metadata": {},
     "output_type": "execute_result"
    }
   ],
   "source": [
    "# Fitting to the training set\n",
    "regressorGRU.fit(X_train,y_train,epochs=50,batch_size=150)"
   ]
  },
  {
   "cell_type": "code",
   "execution_count": 108,
   "id": "80bfed9e-890d-4467-a926-0ed70401a392",
   "metadata": {},
   "outputs": [
    {
     "name": "stdout",
     "output_type": "stream",
     "text": [
      "4/4 [==============================] - 1s 6ms/step - loss: 0.0027\n"
     ]
    },
    {
     "data": {
      "text/plain": [
       "0.002707395236939192"
      ]
     },
     "execution_count": 108,
     "metadata": {},
     "output_type": "execute_result"
    }
   ],
   "source": [
    "regressorGRU.evaluate(X_test, y_test, verbose=1)"
   ]
  },
  {
   "cell_type": "code",
   "execution_count": 109,
   "id": "e067cc44-6ebd-46b2-ac18-360173c6640c",
   "metadata": {},
   "outputs": [],
   "source": [
    "predicted = regressorGRU.predict(X_test)"
   ]
  },
  {
   "cell_type": "code",
   "execution_count": 110,
   "id": "cb20cedc-0b46-4453-9dd1-7ac17ba2880f",
   "metadata": {},
   "outputs": [],
   "source": [
    "predicted_prices = scaler.inverse_transform(predicted)\n",
    "real_prices = scaler.inverse_transform(y_test.reshape(-1, 1))"
   ]
  },
  {
   "cell_type": "code",
   "execution_count": 111,
   "id": "e5b27828-4b0c-4a9b-ba7b-f6674c5556a5",
   "metadata": {},
   "outputs": [],
   "source": [
    "#mortgage = pd.DataFrame({\n",
    "#    \"Real\": real_prices.ravel(),\n",
    "#    \"Predicted\": predicted_prices.ravel()\n",
    "#}, index = df.index[-len(real_prices): ]) \n",
    "#mortgage.head()"
   ]
  },
  {
   "cell_type": "code",
   "execution_count": 112,
   "id": "04f1b572-8993-425b-8719-eed87fe266fb",
   "metadata": {},
   "outputs": [],
   "source": [
    "#mortgage.plot(title=\"Real Vs. Predicted\")"
   ]
  },
  {
   "cell_type": "code",
   "execution_count": 84,
   "id": "40051e1e-8930-441f-8f40-c39a3c32e7d0",
   "metadata": {},
   "outputs": [
    {
     "ename": "NameError",
     "evalue": "name 'inputs' is not defined",
     "output_type": "error",
     "traceback": [
      "\u001b[1;31m---------------------------------------------------------------------------\u001b[0m",
      "\u001b[1;31mNameError\u001b[0m                                 Traceback (most recent call last)",
      "\u001b[1;32m<ipython-input-84-746a56475f37>\u001b[0m in \u001b[0;36m<module>\u001b[1;34m\u001b[0m\n\u001b[0;32m      1\u001b[0m \u001b[0mX_test\u001b[0m \u001b[1;33m=\u001b[0m \u001b[1;33m[\u001b[0m\u001b[1;33m]\u001b[0m\u001b[1;33m\u001b[0m\u001b[1;33m\u001b[0m\u001b[0m\n\u001b[0;32m      2\u001b[0m \u001b[1;32mfor\u001b[0m \u001b[0mi\u001b[0m \u001b[1;32min\u001b[0m \u001b[0mrange\u001b[0m\u001b[1;33m(\u001b[0m\u001b[1;36m60\u001b[0m\u001b[1;33m,\u001b[0m\u001b[1;36m311\u001b[0m\u001b[1;33m)\u001b[0m\u001b[1;33m:\u001b[0m\u001b[1;33m\u001b[0m\u001b[1;33m\u001b[0m\u001b[0m\n\u001b[1;32m----> 3\u001b[1;33m     \u001b[0mX_test\u001b[0m\u001b[1;33m.\u001b[0m\u001b[0mappend\u001b[0m\u001b[1;33m(\u001b[0m\u001b[0minputs\u001b[0m\u001b[1;33m[\u001b[0m\u001b[0mi\u001b[0m\u001b[1;33m-\u001b[0m\u001b[1;36m60\u001b[0m\u001b[1;33m:\u001b[0m\u001b[0mi\u001b[0m\u001b[1;33m,\u001b[0m\u001b[1;36m0\u001b[0m\u001b[1;33m]\u001b[0m\u001b[1;33m)\u001b[0m\u001b[1;33m\u001b[0m\u001b[1;33m\u001b[0m\u001b[0m\n\u001b[0m\u001b[0;32m      4\u001b[0m \u001b[0mX_test\u001b[0m \u001b[1;33m=\u001b[0m \u001b[0mnp\u001b[0m\u001b[1;33m.\u001b[0m\u001b[0marray\u001b[0m\u001b[1;33m(\u001b[0m\u001b[0mX_test\u001b[0m\u001b[1;33m)\u001b[0m\u001b[1;33m\u001b[0m\u001b[1;33m\u001b[0m\u001b[0m\n\u001b[0;32m      5\u001b[0m \u001b[0mX_test\u001b[0m \u001b[1;33m=\u001b[0m \u001b[0mnp\u001b[0m\u001b[1;33m.\u001b[0m\u001b[0mreshape\u001b[0m\u001b[1;33m(\u001b[0m\u001b[0mX_test\u001b[0m\u001b[1;33m,\u001b[0m \u001b[1;33m(\u001b[0m\u001b[0mX_test\u001b[0m\u001b[1;33m.\u001b[0m\u001b[0mshape\u001b[0m\u001b[1;33m[\u001b[0m\u001b[1;36m0\u001b[0m\u001b[1;33m]\u001b[0m\u001b[1;33m,\u001b[0m\u001b[0mX_test\u001b[0m\u001b[1;33m.\u001b[0m\u001b[0mshape\u001b[0m\u001b[1;33m[\u001b[0m\u001b[1;36m1\u001b[0m\u001b[1;33m]\u001b[0m\u001b[1;33m,\u001b[0m\u001b[1;36m1\u001b[0m\u001b[1;33m)\u001b[0m\u001b[1;33m)\u001b[0m\u001b[1;33m\u001b[0m\u001b[1;33m\u001b[0m\u001b[0m\n",
      "\u001b[1;31mNameError\u001b[0m: name 'inputs' is not defined"
     ]
    }
   ],
   "source": [
    "#X_test = []\n",
    "#for i in range(60,311):\n",
    "#    X_test.append(inputs[i-60:i,0])\n",
    "#X_test = np.array(X_test)\n",
    "#X_test = np.reshape(X_test, (X_test.shape[0],X_test.shape[1],1))\n",
    "#GRU_predicted_stock_price = regressorGRU.predict(X_test)\n",
    "#GRU_predicted_stock_price = sc.inverse_transform(GRU_predicted_stock_price)"
   ]
  },
  {
   "cell_type": "code",
   "execution_count": 114,
   "id": "fc41c2a3-4441-430e-b694-2d6f6930497b",
   "metadata": {},
   "outputs": [
    {
     "data": {
      "text/html": [
       "<div>\n",
       "<style scoped>\n",
       "    .dataframe tbody tr th:only-of-type {\n",
       "        vertical-align: middle;\n",
       "    }\n",
       "\n",
       "    .dataframe tbody tr th {\n",
       "        vertical-align: top;\n",
       "    }\n",
       "\n",
       "    .dataframe thead th {\n",
       "        text-align: right;\n",
       "    }\n",
       "</style>\n",
       "<table border=\"1\" class=\"dataframe\">\n",
       "  <thead>\n",
       "    <tr style=\"text-align: right;\">\n",
       "      <th></th>\n",
       "      <th>Real</th>\n",
       "      <th>Predicted</th>\n",
       "    </tr>\n",
       "    <tr>\n",
       "      <th>date</th>\n",
       "      <th></th>\n",
       "      <th></th>\n",
       "    </tr>\n",
       "  </thead>\n",
       "  <tbody>\n",
       "    <tr>\n",
       "      <th>2012-09-01</th>\n",
       "      <td>1.7</td>\n",
       "      <td>1.880693</td>\n",
       "    </tr>\n",
       "    <tr>\n",
       "      <th>2012-10-01</th>\n",
       "      <td>1.7</td>\n",
       "      <td>1.855967</td>\n",
       "    </tr>\n",
       "    <tr>\n",
       "      <th>2012-11-01</th>\n",
       "      <td>1.7</td>\n",
       "      <td>1.829806</td>\n",
       "    </tr>\n",
       "    <tr>\n",
       "      <th>2012-12-01</th>\n",
       "      <td>1.7</td>\n",
       "      <td>1.805251</td>\n",
       "    </tr>\n",
       "    <tr>\n",
       "      <th>2013-01-01</th>\n",
       "      <td>1.7</td>\n",
       "      <td>1.782087</td>\n",
       "    </tr>\n",
       "  </tbody>\n",
       "</table>\n",
       "</div>"
      ],
      "text/plain": [
       "            Real  Predicted\n",
       "date                       \n",
       "2012-09-01   1.7   1.880693\n",
       "2012-10-01   1.7   1.855967\n",
       "2012-11-01   1.7   1.829806\n",
       "2012-12-01   1.7   1.805251\n",
       "2013-01-01   1.7   1.782087"
      ]
     },
     "execution_count": 114,
     "metadata": {},
     "output_type": "execute_result"
    }
   ],
   "source": [
    "mortgage = pd.DataFrame({\n",
    "    \"Real\": real_prices.ravel(),\n",
    "    \"Predicted\": predicted_prices.ravel()\n",
    "}, index = df.index[-len(real_prices): ]) \n",
    "mortgage.head()"
   ]
  },
  {
   "cell_type": "code",
   "execution_count": 116,
   "id": "5b9107f8-053c-4067-862a-93c9da119a46",
   "metadata": {},
   "outputs": [
    {
     "data": {
      "text/plain": [
       "<AxesSubplot:title={'center':'Real Vs. Predicted'}, xlabel='date'>"
      ]
     },
     "execution_count": 116,
     "metadata": {},
     "output_type": "execute_result"
    },
    {
     "data": {
      "image/png": "[encoded data removed]",
      "text/plain": [
       "<Figure size 432x288 with 1 Axes>"
      ]
     },
     "metadata": {},
     "output_type": "display_data"
    }
   ],
   "source": [
    "mortgage.plot(title=\"Real Vs. Predicted\")"
   ]
  },
  {
   "cell_type": "raw",
   "id": "371de10f-21cb-4e58-a9d5-8bd64f72bb4f",
   "metadata": {},
   "source": [
    "links key to this work:\n",
    "https://www.kaggle.com/thebrownviking20/intro-to-recurrent-neural-networks-lstm-gru - code sample from kaggle\n"
   ]
  },
  {
   "cell_type": "code",
   "execution_count": null,
   "id": "87a650e8-12d1-4ac9-99d5-34473f32c8db",
   "metadata": {},
   "outputs": [],
   "source": []
  }
 ],
 "metadata": {
  "kernelspec": {
   "display_name": "Python 3",
   "language": "python",
   "name": "python3"
  },
  "language_info": {
   "codemirror_mode": {
    "name": "ipython",
    "version": 3
   },
   "file_extension": ".py",
   "mimetype": "text/x-python",
   "name": "python",
   "nbconvert_exporter": "python",
   "pygments_lexer": "ipython3",
   "version": "3.7.10"
  }
 },
 "nbformat": 4,
 "nbformat_minor": 5
}
