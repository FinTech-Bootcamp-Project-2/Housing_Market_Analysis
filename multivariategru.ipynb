{
 "cells": [
  {
   "cell_type": "code",
   "execution_count": 4,
   "id": "9767077e-4137-4363-8a92-e3b70c8b658c",
   "metadata": {},
   "outputs": [],
   "source": [
    "import pandas as pd\n",
    "import matplotlib as mpl\n",
    "import matplotlib.pyplot as plt\n",
    "from sklearn.model_selection import train_test_split\n",
    "from keras.preprocessing.sequence import TimeseriesGenerator\n",
    "from sklearn.preprocessing import StandardScaler, MinMaxScaler\n",
    "import tensorflow as tf\n",
    "from keras.layers import GRU, Dense, Dropout\n",
    "from tensorflow.keras.optimizers import SGD\n",
    "\n",
    "mpl.rcParams['figure.figsize'] = (10, 8)\n",
    "mpl.rcParams['axes.grid'] = False"
   ]
  },
  {
   "cell_type": "code",
   "execution_count": 5,
   "id": "88fcac5c-4ac2-4bf4-8353-cf92e40cd6a2",
   "metadata": {},
   "outputs": [],
   "source": [
    "from numpy.random import seed\n",
    "seed(1)\n",
    "from tensorflow import random\n",
    "random.set_seed(2)"
   ]
  },
  {
   "cell_type": "code",
   "execution_count": 6,
   "id": "109551a4-32a4-4d58-925d-5a0daa14a0f3",
   "metadata": {},
   "outputs": [
    {
     "name": "stdout",
     "output_type": "stream",
     "text": [
      "<class 'pandas.core.frame.DataFrame'>\n",
      "DatetimeIndex: 369 entries, 1990-01-01 to 2021-08-01\n",
      "Data columns (total 12 columns):\n",
      " #   Column                                Non-Null Count  Dtype  \n",
      "---  ------                                --------------  -----  \n",
      " 0   CANLORSGPNOSTSAM                      369 non-null    float64\n",
      " 1   inflation_common                      369 non-null    float64\n",
      " 2   inflation_trimmed_median              369 non-null    float64\n",
      " 3   inflation_weighted_median             369 non-null    float64\n",
      " 4   employment_rate                       369 non-null    float64\n",
      " 5   unemployment_rate                     369 non-null    float64\n",
      " 6   participation_rate                    369 non-null    float64\n",
      " 7   5_year_bond_benchmark                 369 non-null    float64\n",
      " 8   10_year_bond_benchmark                369 non-null    float64\n",
      " 9   long_term_bond_benchmark              369 non-null    float64\n",
      " 10  Bank of Canada Target Overnight Rate  369 non-null    float64\n",
      " 11  Mortgage Rate                         369 non-null    float64\n",
      "dtypes: float64(12)\n",
      "memory usage: 37.5 KB\n"
     ]
    }
   ],
   "source": [
    "df = pd.read_csv(\"cleaned_data.csv\", index_col=0, parse_dates=True, infer_datetime_format=True)\n",
    "df.info()"
   ]
  },
  {
   "cell_type": "code",
   "execution_count": 7,
   "id": "9dd9ca25-e733-4ad6-96cb-eeb0ce9206e2",
   "metadata": {},
   "outputs": [
    {
     "data": {
      "text/html": [
       "<div>\n",
       "<style scoped>\n",
       "    .dataframe tbody tr th:only-of-type {\n",
       "        vertical-align: middle;\n",
       "    }\n",
       "\n",
       "    .dataframe tbody tr th {\n",
       "        vertical-align: top;\n",
       "    }\n",
       "\n",
       "    .dataframe thead th {\n",
       "        text-align: right;\n",
       "    }\n",
       "</style>\n",
       "<table border=\"1\" class=\"dataframe\">\n",
       "  <thead>\n",
       "    <tr style=\"text-align: right;\">\n",
       "      <th></th>\n",
       "      <th>Mortgage Rate</th>\n",
       "      <th>inflation_common</th>\n",
       "      <th>unemployment_rate</th>\n",
       "      <th>5_year_bond_benchmark</th>\n",
       "      <th>Bank of Canada Target Overnight Rate</th>\n",
       "    </tr>\n",
       "  </thead>\n",
       "  <tbody>\n",
       "    <tr>\n",
       "      <th>1990-01-01</th>\n",
       "      <td>12.01</td>\n",
       "      <td>3.4</td>\n",
       "      <td>8.7</td>\n",
       "      <td>10.045000</td>\n",
       "      <td>12.04</td>\n",
       "    </tr>\n",
       "    <tr>\n",
       "      <th>1990-02-01</th>\n",
       "      <td>12.42</td>\n",
       "      <td>3.3</td>\n",
       "      <td>8.4</td>\n",
       "      <td>10.538182</td>\n",
       "      <td>13.00</td>\n",
       "    </tr>\n",
       "    <tr>\n",
       "      <th>1990-03-01</th>\n",
       "      <td>12.92</td>\n",
       "      <td>3.4</td>\n",
       "      <td>8.3</td>\n",
       "      <td>11.147692</td>\n",
       "      <td>13.13</td>\n",
       "    </tr>\n",
       "    <tr>\n",
       "      <th>1990-04-01</th>\n",
       "      <td>13.67</td>\n",
       "      <td>3.5</td>\n",
       "      <td>7.9</td>\n",
       "      <td>12.175000</td>\n",
       "      <td>13.52</td>\n",
       "    </tr>\n",
       "    <tr>\n",
       "      <th>1990-05-01</th>\n",
       "      <td>14.21</td>\n",
       "      <td>3.6</td>\n",
       "      <td>7.8</td>\n",
       "      <td>11.741538</td>\n",
       "      <td>13.80</td>\n",
       "    </tr>\n",
       "  </tbody>\n",
       "</table>\n",
       "</div>"
      ],
      "text/plain": [
       "            Mortgage Rate  inflation_common  unemployment_rate  \\\n",
       "1990-01-01          12.01               3.4                8.7   \n",
       "1990-02-01          12.42               3.3                8.4   \n",
       "1990-03-01          12.92               3.4                8.3   \n",
       "1990-04-01          13.67               3.5                7.9   \n",
       "1990-05-01          14.21               3.6                7.8   \n",
       "\n",
       "            5_year_bond_benchmark  Bank of Canada Target Overnight Rate  \n",
       "1990-01-01              10.045000                                 12.04  \n",
       "1990-02-01              10.538182                                 13.00  \n",
       "1990-03-01              11.147692                                 13.13  \n",
       "1990-04-01              12.175000                                 13.52  \n",
       "1990-05-01              11.741538                                 13.80  "
      ]
     },
     "execution_count": 7,
     "metadata": {},
     "output_type": "execute_result"
    }
   ],
   "source": [
    "df_input = df[['Mortgage Rate', 'inflation_common', 'unemployment_rate', '5_year_bond_benchmark', 'Bank of Canada Target Overnight Rate']]\n",
    "df_input.head()"
   ]
  },
  {
   "cell_type": "code",
   "execution_count": 8,
   "id": "467aca28-c1c3-4e81-8ffe-6ffb24635917",
   "metadata": {},
   "outputs": [],
   "source": [
    "scaler=MinMaxScaler()\n",
    "\n",
    "data_scaled = scaler.fit_transform(df_input)"
   ]
  },
  {
   "cell_type": "code",
   "execution_count": 9,
   "id": "a40fba6a-5875-4b93-bf53-4db1a18ec063",
   "metadata": {},
   "outputs": [],
   "source": [
    "features = data_scaled\n",
    "target = data_scaled[:,0]"
   ]
  },
  {
   "cell_type": "code",
   "execution_count": 10,
   "id": "8a37ff38-5d54-4e87-834a-950050f2e45e",
   "metadata": {},
   "outputs": [
    {
     "data": {
      "text/plain": [
       "(array([[[0.80018165, 0.8       , 0.4137931 , 0.81990776, 0.8701107 ],\n",
       "         [0.83742053, 0.76666667, 0.37931034, 0.86160646, 0.94095941]]]),\n",
       " array([0.88283379]))"
      ]
     },
     "execution_count": 10,
     "metadata": {},
     "output_type": "execute_result"
    }
   ],
   "source": [
    "TimeseriesGenerator(features, target, length=2, sampling_rate=1, batch_size=1)[0]"
   ]
  },
  {
   "cell_type": "code",
   "execution_count": 11,
   "id": "701a7703-9c13-4f07-a02b-ec13aedaf4c6",
   "metadata": {},
   "outputs": [],
   "source": [
    "X_train, X_test, y_train, y_test = train_test_split(features, target, test_size=0.20, random_state=123, shuffle=False)"
   ]
  },
  {
   "cell_type": "code",
   "execution_count": 12,
   "id": "f98d00ab-5911-4446-8864-2d1149e40a1a",
   "metadata": {},
   "outputs": [
    {
     "data": {
      "text/plain": [
       "(295, 5)"
      ]
     },
     "execution_count": 12,
     "metadata": {},
     "output_type": "execute_result"
    }
   ],
   "source": [
    "X_train.shape"
   ]
  },
  {
   "cell_type": "code",
   "execution_count": 13,
   "id": "8381fae1-af51-456b-9e37-f7f3e57aff42",
   "metadata": {},
   "outputs": [
    {
     "data": {
      "text/plain": [
       "(74, 5)"
      ]
     },
     "execution_count": 13,
     "metadata": {},
     "output_type": "execute_result"
    }
   ],
   "source": [
    "X_test.shape"
   ]
  },
  {
   "cell_type": "code",
   "execution_count": 25,
   "id": "a4af14be-84f5-4c94-a2f0-e81fbe31d170",
   "metadata": {},
   "outputs": [],
   "source": [
    "win_length = 5\n",
    "batch_size = 50\n",
    "num_features =5\n",
    "\n",
    "train_generator = TimeseriesGenerator(X_train, y_train, length=win_length, sampling_rate=1, batch_size=batch_size)\n",
    "test_generator = TimeseriesGenerator(X_test, y_test, length=win_length, sampling_rate=1, batch_size=batch_size)"
   ]
  },
  {
   "cell_type": "code",
   "execution_count": 26,
   "id": "e341ce97-b960-42c4-b0b6-2767c7d83cdb",
   "metadata": {},
   "outputs": [],
   "source": [
    "model = tf.keras.Sequential()\n",
    "model.add(tf.keras.layers.GRU(128, input_shape= (win_length, num_features), return_sequences=True))\n",
    "model.add(tf.keras.layers.LeakyReLU(alpha=0.5))\n",
    "model.add(tf.keras.layers.GRU(128, return_sequences=True))\n",
    "model.add(tf.keras.layers.Dropout(0.3))\n",
    "model.add(tf.keras.layers.GRU(64, return_sequences=False))\n",
    "model.add(tf.keras.layers.Dropout(0.3))\n",
    "model.add(tf.keras.layers.Dense(1))"
   ]
  },
  {
   "cell_type": "code",
   "execution_count": 27,
   "id": "e7d31013-f95e-4718-83b0-a6a7424f72db",
   "metadata": {},
   "outputs": [
    {
     "name": "stdout",
     "output_type": "stream",
     "text": [
      "Model: \"sequential_2\"\n",
      "_________________________________________________________________\n",
      " Layer (type)                Output Shape              Param #   \n",
      "=================================================================\n",
      " gru_6 (GRU)                 (None, 5, 128)            51840     \n",
      "                                                                 \n",
      " leaky_re_lu_2 (LeakyReLU)   (None, 5, 128)            0         \n",
      "                                                                 \n",
      " gru_7 (GRU)                 (None, 5, 128)            99072     \n",
      "                                                                 \n",
      " dropout_4 (Dropout)         (None, 5, 128)            0         \n",
      "                                                                 \n",
      " gru_8 (GRU)                 (None, 64)                37248     \n",
      "                                                                 \n",
      " dropout_5 (Dropout)         (None, 64)                0         \n",
      "                                                                 \n",
      " dense_2 (Dense)             (None, 1)                 65        \n",
      "                                                                 \n",
      "=================================================================\n",
      "Total params: 188,225\n",
      "Trainable params: 188,225\n",
      "Non-trainable params: 0\n",
      "_________________________________________________________________\n"
     ]
    }
   ],
   "source": [
    "model.summary()"
   ]
  },
  {
   "cell_type": "code",
   "execution_count": 28,
   "id": "7aa41cda-4985-4154-a5cd-e35006018098",
   "metadata": {},
   "outputs": [
    {
     "name": "stdout",
     "output_type": "stream",
     "text": [
      "Epoch 1/50\n",
      "6/6 [==============================] - 6s 207ms/step - loss: 0.1239 - mean_absolute_error: 0.2543 - val_loss: 0.0105 - val_mean_absolute_error: 0.0986\n",
      "Epoch 2/50\n",
      "6/6 [==============================] - 0s 24ms/step - loss: 0.0641 - mean_absolute_error: 0.1841 - val_loss: 0.0278 - val_mean_absolute_error: 0.1647\n",
      "Epoch 3/50\n",
      "6/6 [==============================] - 0s 23ms/step - loss: 0.0492 - mean_absolute_error: 0.1667 - val_loss: 0.0362 - val_mean_absolute_error: 0.1884\n",
      "Epoch 4/50\n",
      "6/6 [==============================] - 0s 22ms/step - loss: 0.0434 - mean_absolute_error: 0.1602 - val_loss: 0.0384 - val_mean_absolute_error: 0.1944\n",
      "Epoch 5/50\n",
      "6/6 [==============================] - 0s 22ms/step - loss: 0.0404 - mean_absolute_error: 0.1588 - val_loss: 0.0385 - val_mean_absolute_error: 0.1946\n",
      "Epoch 6/50\n",
      "6/6 [==============================] - 0s 23ms/step - loss: 0.0370 - mean_absolute_error: 0.1505 - val_loss: 0.0368 - val_mean_absolute_error: 0.1901\n",
      "Epoch 7/50\n",
      "6/6 [==============================] - 0s 23ms/step - loss: 0.0363 - mean_absolute_error: 0.1490 - val_loss: 0.0360 - val_mean_absolute_error: 0.1880\n",
      "Epoch 8/50\n",
      "6/6 [==============================] - 0s 27ms/step - loss: 0.0367 - mean_absolute_error: 0.1496 - val_loss: 0.0348 - val_mean_absolute_error: 0.1850\n",
      "Epoch 9/50\n",
      "6/6 [==============================] - 0s 28ms/step - loss: 0.0331 - mean_absolute_error: 0.1475 - val_loss: 0.0312 - val_mean_absolute_error: 0.1749\n",
      "Epoch 10/50\n",
      "6/6 [==============================] - 0s 23ms/step - loss: 0.0308 - mean_absolute_error: 0.1402 - val_loss: 0.0303 - val_mean_absolute_error: 0.1724\n",
      "Epoch 11/50\n",
      "6/6 [==============================] - 0s 26ms/step - loss: 0.0309 - mean_absolute_error: 0.1392 - val_loss: 0.0288 - val_mean_absolute_error: 0.1680\n"
     ]
    }
   ],
   "source": [
    "early_stopping = tf.keras.callbacks.EarlyStopping(monitor='val_loss', patience=10, mode=\"min\")\n",
    "\n",
    "model.compile(loss=tf.losses.MeanSquaredError(),\n",
    "              optimizer= 'SGD',\n",
    "              metrics=[tf.metrics.MeanAbsoluteError()])\n",
    "\n",
    "history = model.fit(train_generator, epochs=50,\n",
    "                              validation_data =test_generator,\n",
    "                              shuffle=False,\n",
    "                              callbacks=[early_stopping])"
   ]
  },
  {
   "cell_type": "code",
   "execution_count": 29,
   "id": "5c0b2738-350a-4752-a03d-896c8e7b4b24",
   "metadata": {},
   "outputs": [
    {
     "data": {
      "text/plain": [
       "[0.02880151756107807, 0.16803976893424988]"
      ]
     },
     "execution_count": 29,
     "metadata": {},
     "output_type": "execute_result"
    }
   ],
   "source": [
    "model.evaluate(test_generator, verbose=0)"
   ]
  },
  {
   "cell_type": "code",
   "execution_count": 30,
   "id": "9b0fa570-14fc-4656-aced-c07acf1f3ffd",
   "metadata": {},
   "outputs": [],
   "source": [
    "predictions=model.predict(test_generator)"
   ]
  },
  {
   "cell_type": "code",
   "execution_count": 31,
   "id": "089a78ca-a96c-44f0-8e5c-067f424e753f",
   "metadata": {},
   "outputs": [
    {
     "data": {
      "text/plain": [
       "69"
      ]
     },
     "execution_count": 31,
     "metadata": {},
     "output_type": "execute_result"
    }
   ],
   "source": [
    "predictions.shape[0]"
   ]
  },
  {
   "cell_type": "code",
   "execution_count": 33,
   "id": "a0f01c36-280b-4294-947c-7a53cad7f6fb",
   "metadata": {},
   "outputs": [
    {
     "data": {
      "text/plain": [
       "array([[2.33333333e-01, 1.83908046e-01, 3.83606017e-02, 1.84501845e-02],\n",
       "       [2.33333333e-01, 2.87356322e-01, 2.54727133e-02, 1.84501845e-02],\n",
       "       [2.00000000e-01, 3.10344828e-01, 2.09069946e-02, 1.84501845e-02],\n",
       "       [2.33333333e-01, 2.98850575e-01, 3.09761722e-02, 1.84501845e-02],\n",
       "       [2.33333333e-01, 2.75862069e-01, 3.64280224e-02, 1.84501845e-02],\n",
       "       [2.00000000e-01, 2.18390805e-01, 3.33681051e-02, 1.84501845e-02],\n",
       "       [2.00000000e-01, 1.60919540e-01, 2.32129131e-02, 1.84501845e-02],\n",
       "       [1.66666667e-01, 2.41379310e-01, 2.19215988e-02, 1.84501845e-02],\n",
       "       [1.66666667e-01, 2.87356322e-01, 2.48270561e-02, 1.84501845e-02],\n",
       "       [1.33333333e-01, 1.60919540e-01, 2.71274844e-02, 1.84501845e-02],\n",
       "       [1.33333333e-01, 1.37931034e-01, 3.01652575e-02, 1.84501845e-02],\n",
       "       [1.00000000e-01, 1.49425287e-01, 4.51246294e-02, 1.84501845e-02],\n",
       "       [1.00000000e-01, 1.60919540e-01, 6.55495772e-02, 1.84501845e-02],\n",
       "       [6.66666667e-02, 2.41379310e-01, 6.47725193e-02, 1.84501845e-02],\n",
       "       [1.00000000e-01, 2.18390805e-01, 6.47174238e-02, 1.84501845e-02],\n",
       "       [1.00000000e-01, 2.52873563e-01, 7.02219029e-02, 1.84501845e-02],\n",
       "       [1.00000000e-01, 1.95402299e-01, 5.91994013e-02, 1.84501845e-02],\n",
       "       [1.00000000e-01, 1.72413793e-01, 5.36510377e-02, 1.84501845e-02],\n",
       "       [1.00000000e-01, 1.14942529e-01, 6.34511914e-02, 1.84501845e-02],\n",
       "       [1.33333333e-01, 1.72413793e-01, 9.92006149e-02, 1.84501845e-02],\n",
       "       [1.66666667e-01, 2.06896552e-01, 9.85011530e-02, 3.69003690e-02],\n",
       "       [1.66666667e-01, 6.89655172e-02, 1.18562644e-01, 3.69003690e-02],\n",
       "       [1.66666667e-01, 6.89655172e-02, 1.15905348e-01, 5.53505535e-02],\n",
       "       [1.66666667e-01, 4.59770115e-02, 1.09221844e-01, 5.53505535e-02],\n",
       "       [2.00000000e-01, 3.44827586e-02, 1.17094138e-01, 5.53505535e-02],\n",
       "       [2.33333333e-01, 1.37931034e-01, 1.39508071e-01, 5.53505535e-02],\n",
       "       [2.66666667e-01, 1.26436782e-01, 1.47754764e-01, 7.38007380e-02],\n",
       "       [3.00000000e-01, 1.37931034e-01, 1.41914644e-01, 7.38007380e-02],\n",
       "       [3.00000000e-01, 1.14942529e-01, 1.47430548e-01, 7.38007380e-02],\n",
       "       [3.00000000e-01, 1.14942529e-01, 1.56648732e-01, 7.38007380e-02],\n",
       "       [3.00000000e-01, 6.89655172e-02, 1.45659017e-01, 7.38007380e-02],\n",
       "       [3.00000000e-01, 1.03448276e-01, 1.47833169e-01, 7.38007380e-02],\n",
       "       [3.00000000e-01, 1.83908046e-01, 1.58070715e-01, 9.22509225e-02],\n",
       "       [3.00000000e-01, 4.59770115e-02, 1.62128322e-01, 9.22509225e-02],\n",
       "       [3.00000000e-01, 2.29885057e-02, 1.73712529e-01, 9.22509225e-02],\n",
       "       [3.00000000e-01, 1.14942529e-02, 1.68326562e-01, 1.10701107e-01],\n",
       "       [3.00000000e-01, 2.29885057e-02, 1.39299729e-01, 1.10701107e-01],\n",
       "       [2.66666667e-01, 1.26436782e-01, 1.29592621e-01, 1.10701107e-01],\n",
       "       [2.66666667e-01, 1.26436782e-01, 1.23769165e-01, 1.10701107e-01],\n",
       "       [2.66666667e-01, 1.37931034e-01, 1.05678782e-01, 1.10701107e-01],\n",
       "       [2.66666667e-01, 1.03448276e-01, 1.04028037e-01, 1.10701107e-01],\n",
       "       [2.66666667e-01, 4.59770115e-02, 1.01037663e-01, 1.10701107e-01],\n",
       "       [2.66666667e-01, 2.29885057e-02, 8.47425058e-02, 1.10701107e-01],\n",
       "       [3.00000000e-01, 1.03448276e-01, 9.36587241e-02, 1.10701107e-01],\n",
       "       [2.66666667e-01, 1.49425287e-01, 7.40730574e-02, 1.10701107e-01],\n",
       "       [2.66666667e-01, 0.00000000e+00, 8.79131437e-02, 1.10701107e-01],\n",
       "       [3.00000000e-01, 0.00000000e+00, 9.42736357e-02, 1.10701107e-01],\n",
       "       [3.00000000e-01, 4.59770115e-02, 9.79746349e-02, 1.10701107e-01],\n",
       "       [3.00000000e-01, 1.14942529e-02, 1.07528824e-01, 1.10701107e-01],\n",
       "       [2.66666667e-01, 9.19540230e-02, 9.78093774e-02, 1.10701107e-01],\n",
       "       [2.66666667e-01, 9.19540230e-02, 8.06039888e-02, 1.10701107e-01],\n",
       "       [2.33333333e-01, 3.90804598e-01, 3.13604919e-02, 1.10701107e-01],\n",
       "       [1.66666667e-01, 9.77011494e-01, 1.31162842e-02, 0.00000000e+00],\n",
       "       [1.33333333e-01, 1.00000000e+00, 3.57417371e-03, 0.00000000e+00],\n",
       "       [1.33333333e-01, 7.81609195e-01, 4.22751729e-03, 0.00000000e+00],\n",
       "       [1.00000000e-01, 7.12643678e-01, 0.00000000e+00, 0.00000000e+00],\n",
       "       [1.33333333e-01, 6.89655172e-01, 2.55956956e-03, 0.00000000e+00],\n",
       "       [1.66666667e-01, 3.90804598e-01, 7.96090919e-04, 0.00000000e+00],\n",
       "       [1.66666667e-01, 3.56321839e-01, 1.44028403e-03, 0.00000000e+00],\n",
       "       [1.66666667e-01, 3.33333333e-01, 7.20983859e-03, 0.00000000e+00],\n",
       "       [1.00000000e-01, 3.33333333e-01, 8.36535998e-03, 0.00000000e+00],\n",
       "       [1.00000000e-01, 5.40229885e-01, 6.70253651e-03, 0.00000000e+00],\n",
       "       [1.33333333e-01, 4.02298851e-01, 1.94162385e-02, 0.00000000e+00],\n",
       "       [1.66666667e-01, 3.44827586e-01, 4.97827758e-02, 0.00000000e+00],\n",
       "       [2.33333333e-01, 3.79310345e-01, 5.03586984e-02, 0.00000000e+00],\n",
       "       [2.66666667e-01, 3.79310345e-01, 4.82167563e-02, 0.00000000e+00],\n",
       "       [2.33333333e-01, 2.64367816e-01, 4.80015373e-02, 0.00000000e+00],\n",
       "       [2.33333333e-01, 2.98850575e-01, 4.34336225e-02, 0.00000000e+00],\n",
       "       [2.66666667e-01, 3.21839080e-01, 4.13802569e-02, 0.00000000e+00]])"
      ]
     },
     "execution_count": 33,
     "metadata": {},
     "output_type": "execute_result"
    }
   ],
   "source": [
    "X_test[:,1:][win_length:]"
   ]
  },
  {
   "cell_type": "code",
   "execution_count": 35,
   "id": "6559400b-cb64-4875-8095-6e550507a7c1",
   "metadata": {},
   "outputs": [],
   "source": [
    "df_pred = pd.concat([pd.DataFrame(predictions), pd.DataFrame(X_test[:,1:][win_length:])],axis=1)"
   ]
  },
  {
   "cell_type": "code",
   "execution_count": 36,
   "id": "18ee11cb-cb24-42ab-9b49-9cb66b015410",
   "metadata": {},
   "outputs": [],
   "source": [
    "rev_trans=scaler.inverse_transform(df_pred)"
   ]
  },
  {
   "cell_type": "code",
   "execution_count": 37,
   "id": "685f402a-f07d-42d5-93f1-f91e0eeda89c",
   "metadata": {},
   "outputs": [
    {
     "data": {
      "text/plain": [
       "array([[ 5.6881315 ,  1.7       ,  6.7       ,  0.80142857,  0.5       ],\n",
       "       [ 5.69385791,  1.7       ,  7.6       ,  0.649     ,  0.5       ],\n",
       "       [ 5.69305007,  1.6       ,  7.8       ,  0.595     ,  0.5       ],\n",
       "       [ 5.68530602,  1.7       ,  7.7       ,  0.71409091,  0.5       ],\n",
       "       [ 5.67507841,  1.7       ,  7.5       ,  0.77857143,  0.5       ],\n",
       "       [ 5.66924766,  1.6       ,  7.        ,  0.74238095,  0.5       ],\n",
       "       [ 5.66611801,  1.6       ,  6.5       ,  0.62227273,  0.5       ],\n",
       "       [ 5.66917941,  1.5       ,  7.2       ,  0.607     ,  0.5       ],\n",
       "       [ 5.6697382 ,  1.5       ,  7.6       ,  0.64136364,  0.5       ],\n",
       "       [ 5.66357998,  1.4       ,  6.5       ,  0.66857143,  0.5       ],\n",
       "       [ 5.66131068,  1.4       ,  6.3       ,  0.7045    ,  0.5       ],\n",
       "       [ 5.662529  ,  1.3       ,  6.4       ,  0.88142857,  0.5       ],\n",
       "       [ 5.66364232,  1.3       ,  6.5       ,  1.123     ,  0.5       ],\n",
       "       [ 5.66841291,  1.2       ,  7.2       ,  1.11380952,  0.5       ],\n",
       "       [ 5.66705054,  1.3       ,  7.        ,  1.11315789,  0.5       ],\n",
       "       [ 5.66220022,  1.3       ,  7.3       ,  1.17826087,  0.5       ],\n",
       "       [ 5.65406964,  1.3       ,  6.8       ,  1.04789474,  0.5       ],\n",
       "       [ 5.64841115,  1.3       ,  6.6       ,  0.98227273,  0.5       ],\n",
       "       [ 5.64324616,  1.3       ,  6.1       ,  1.09818182,  0.5       ],\n",
       "       [ 5.64683846,  1.4       ,  6.6       ,  1.521     ,  0.5       ],\n",
       "       [ 5.64886462,  1.5       ,  6.9       ,  1.51272727,  0.75      ],\n",
       "       [ 5.65905122,  1.5       ,  5.7       ,  1.75      ,  0.75      ],\n",
       "       [ 5.68374252,  1.5       ,  5.7       ,  1.71857143,  1.        ],\n",
       "       [ 5.71430132,  1.5       ,  5.5       ,  1.63952381,  1.        ],\n",
       "       [ 5.74405753,  1.6       ,  5.4       ,  1.73263158,  1.        ],\n",
       "       [ 5.76999144,  1.7       ,  6.3       ,  1.99772727,  1.        ],\n",
       "       [ 5.78494895,  1.8       ,  6.2       ,  2.09526316,  1.25      ],\n",
       "       [ 5.79967842,  1.9       ,  6.3       ,  2.02619048,  1.25      ],\n",
       "       [ 5.81598485,  1.9       ,  6.1       ,  2.09142857,  1.25      ],\n",
       "       [ 5.83433647,  1.9       ,  6.1       ,  2.20045455,  1.25      ],\n",
       "       [ 5.85204923,  1.9       ,  5.7       ,  2.07047619,  1.25      ],\n",
       "       [ 5.8698168 ,  1.9       ,  6.        ,  2.09619048,  1.25      ],\n",
       "       [ 5.8794948 ,  1.9       ,  6.7       ,  2.21727273,  1.5       ],\n",
       "       [ 5.88236851,  1.9       ,  5.5       ,  2.26526316,  1.5       ],\n",
       "       [ 5.89382068,  1.9       ,  5.3       ,  2.40227273,  1.5       ],\n",
       "       [ 5.90925463,  1.9       ,  5.2       ,  2.33857143,  1.75      ],\n",
       "       [ 5.92295805,  1.9       ,  5.3       ,  1.99526316,  1.75      ],\n",
       "       [ 5.93442892,  1.8       ,  6.2       ,  1.88045455,  1.75      ],\n",
       "       [ 5.93907318,  1.8       ,  6.2       ,  1.81157895,  1.75      ],\n",
       "       [ 5.93265082,  1.8       ,  6.3       ,  1.59761905,  1.75      ],\n",
       "       [ 5.92086725,  1.8       ,  6.        ,  1.57809524,  1.75      ],\n",
       "       [ 5.91132279,  1.8       ,  5.5       ,  1.54272727,  1.75      ],\n",
       "       [ 5.90043729,  1.8       ,  5.3       ,  1.35      ,  1.75      ],\n",
       "       [ 5.8964204 ,  1.9       ,  6.        ,  1.45545455,  1.75      ],\n",
       "       [ 5.88741997,  1.8       ,  6.4       ,  1.22380952,  1.75      ],\n",
       "       [ 5.87273874,  1.8       ,  5.1       ,  1.3875    ,  1.75      ],\n",
       "       [ 5.86872283,  1.9       ,  5.1       ,  1.46272727,  1.75      ],\n",
       "       [ 5.86920911,  1.9       ,  5.5       ,  1.5065    ,  1.75      ],\n",
       "       [ 5.86897713,  1.9       ,  5.2       ,  1.6195    ,  1.75      ],\n",
       "       [ 5.87324274,  1.8       ,  5.9       ,  1.50454545,  1.75      ],\n",
       "       [ 5.87608986,  1.8       ,  5.9       ,  1.30105263,  1.75      ],\n",
       "       [ 5.86758654,  1.7       ,  8.5       ,  0.71863636,  1.75      ],\n",
       "       [ 5.82743833,  1.5       , 13.6       ,  0.50285714,  0.25      ],\n",
       "       [ 5.74484175,  1.4       , 13.8       ,  0.39      ,  0.25      ],\n",
       "       [ 5.64765975,  1.4       , 11.9       ,  0.39772727,  0.25      ],\n",
       "       [ 5.57168339,  1.3       , 11.3       ,  0.34772727,  0.25      ],\n",
       "       [ 5.50681041,  1.4       , 11.1       ,  0.378     ,  0.25      ],\n",
       "       [ 5.46935511,  1.5       ,  8.5       ,  0.35714286,  0.25      ],\n",
       "       [ 5.49021556,  1.5       ,  8.2       ,  0.3647619 ,  0.25      ],\n",
       "       [ 5.52279233,  1.5       ,  8.        ,  0.433     ,  0.25      ],\n",
       "       [ 5.54442125,  1.3       ,  8.        ,  0.44666667,  0.25      ],\n",
       "       [ 5.56364207,  1.3       ,  9.8       ,  0.427     ,  0.25      ],\n",
       "       [ 5.55903882,  1.4       ,  8.6       ,  0.57736842,  0.25      ],\n",
       "       [ 5.54092739,  1.5       ,  8.1       ,  0.93652174,  0.25      ],\n",
       "       [ 5.53215993,  1.7       ,  8.4       ,  0.94333333,  0.25      ],\n",
       "       [ 5.5264404 ,  1.8       ,  8.4       ,  0.918     ,  0.25      ],\n",
       "       [ 5.53104431,  1.7       ,  7.4       ,  0.91545455,  0.25      ],\n",
       "       [ 5.55167147,  1.7       ,  7.7       ,  0.86142857,  0.25      ],\n",
       "       [ 5.56307934,  1.8       ,  7.9       ,  0.83714286,  0.25      ]])"
      ]
     },
     "execution_count": 37,
     "metadata": {},
     "output_type": "execute_result"
    }
   ],
   "source": [
    "rev_trans"
   ]
  },
  {
   "cell_type": "code",
   "execution_count": 38,
   "id": "64ff830c-4d4a-4b48-829a-2d6f2528494c",
   "metadata": {},
   "outputs": [],
   "source": [
    "df_final=df_input[predictions.shape[0]*-1:]"
   ]
  },
  {
   "cell_type": "code",
   "execution_count": 39,
   "id": "536ebecf-fc7d-4d22-a3dd-d54476489ef9",
   "metadata": {},
   "outputs": [
    {
     "data": {
      "text/plain": [
       "Mortgage Rate                           69\n",
       "inflation_common                        69\n",
       "unemployment_rate                       69\n",
       "5_year_bond_benchmark                   69\n",
       "Bank of Canada Target Overnight Rate    69\n",
       "dtype: int64"
      ]
     },
     "execution_count": 39,
     "metadata": {},
     "output_type": "execute_result"
    }
   ],
   "source": [
    "df_final.count()"
   ]
  },
  {
   "cell_type": "code",
   "execution_count": 40,
   "id": "dbb72226-e518-42e1-8867-02ab5c4e5950",
   "metadata": {},
   "outputs": [
    {
     "name": "stderr",
     "output_type": "stream",
     "text": [
      "C:\\Users\\Curtis lym\\anaconda3\\envs\\mlenv\\lib\\site-packages\\ipykernel_launcher.py:1: SettingWithCopyWarning: \n",
      "A value is trying to be set on a copy of a slice from a DataFrame.\n",
      "Try using .loc[row_indexer,col_indexer] = value instead\n",
      "\n",
      "See the caveats in the documentation: https://pandas.pydata.org/pandas-docs/stable/user_guide/indexing.html#returning-a-view-versus-a-copy\n",
      "  \"\"\"Entry point for launching an IPython kernel.\n"
     ]
    }
   ],
   "source": [
    "df_final['Mortgage_Rate_Prediction']=rev_trans[:,0]"
   ]
  },
  {
   "cell_type": "code",
   "execution_count": 41,
   "id": "89f0db3e-ade7-4f70-bf27-03deace89e84",
   "metadata": {},
   "outputs": [
    {
     "data": {
      "text/plain": [
       "<AxesSubplot:>"
      ]
     },
     "execution_count": 41,
     "metadata": {},
     "output_type": "execute_result"
    },
    {
     "data": {
      "image/png": "[encoded data removed]",
      "text/plain": [
       "<Figure size 720x576 with 1 Axes>"
      ]
     },
     "metadata": {
      "needs_background": "light"
     },
     "output_type": "display_data"
    }
   ],
   "source": [
    "df_final[['Mortgage Rate', 'Mortgage_Rate_Prediction']].plot()"
   ]
  },
  {
   "cell_type": "code",
   "execution_count": null,
   "id": "91449235-af76-4d39-a86f-e755d35f1ec2",
   "metadata": {},
   "outputs": [],
   "source": []
  }
 ],
 "metadata": {
  "kernelspec": {
   "display_name": "Python 3",
   "language": "python",
   "name": "python3"
  },
  "language_info": {
   "codemirror_mode": {
    "name": "ipython",
    "version": 3
   },
   "file_extension": ".py",
   "mimetype": "text/x-python",
   "name": "python",
   "nbconvert_exporter": "python",
   "pygments_lexer": "ipython3",
   "version": "3.7.10"
  }
 },
 "nbformat": 4,
 "nbformat_minor": 5
}
