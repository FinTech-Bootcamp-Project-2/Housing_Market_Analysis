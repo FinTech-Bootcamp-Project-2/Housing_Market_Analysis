{
 "cells": [
  {
   "cell_type": "code",
   "execution_count": 14,
   "id": "305c9d04-1cac-4b86-adfb-905c62146bfa",
   "metadata": {},
   "outputs": [],
   "source": [
    "# Import libraries and dependencies \n",
    "\n",
    "import pandas as pd\n",
    "from pathlib import Path\n",
    "import datetime\n",
    "import numpy as np\n"
   ]
  },
  {
   "cell_type": "code",
   "execution_count": 2,
   "id": "c08d5801-225d-463e-8d70-455fe7659509",
   "metadata": {},
   "outputs": [],
   "source": [
    "import warnings\n",
    "warnings.filterwarnings(\"ignore\", category=FutureWarning)"
   ]
  },
  {
   "cell_type": "code",
   "execution_count": 3,
   "id": "b4208b92-fbfe-44c5-9ef2-9334f8f92732",
   "metadata": {},
   "outputs": [],
   "source": [
    "# Set file paths\n",
    "mortgage_path = Path(\"mortgage_rates.xlsx\")\n",
    "inflation_path = Path(\"1810025901_databaseLoadingData.csv\")\n",
    "boc_path = Path(\"BankofCanadaRateHistory.csv\")\n",
    "bond_path = Path(\"1010013901_databaseLoadingData (2).csv\")"
   ]
  },
  {
   "cell_type": "code",
   "execution_count": 4,
   "id": "6c658b57-275b-4670-b470-b36214303e4c",
   "metadata": {},
   "outputs": [],
   "source": [
    "#read in csv and xlsx files\n",
    "inflation_df = pd.read_csv(inflation_path)\n",
    "boc_df = pd.read_csv(boc_path, index_col=\"Date\")\n",
    "boc_df.head()\n",
    "mortgage_df = pd.read_excel(mortgage_path, index_col=\"Date\")\n",
    "bond_df = pd.read_csv(bond_path)"
   ]
  },
  {
   "cell_type": "code",
   "execution_count": null,
   "id": "0a6dd01a-85d3-4bf6-a0e0-a842218cf30c",
   "metadata": {},
   "outputs": [],
   "source": []
  },
  {
   "cell_type": "code",
   "execution_count": 5,
   "id": "074f7918-978a-4fbf-b1ae-94e7a6d4c4c1",
   "metadata": {},
   "outputs": [],
   "source": [
    "#dropping extra columns\n",
    "bond_df = bond_df.drop(columns=['GEO',\n",
    "                           'DGUID',  \n",
    "                           'UOM', \n",
    "                           'UOM_ID', \n",
    "                           'SCALAR_FACTOR', \n",
    "                           'SCALAR_ID', \n",
    "                           'VECTOR', \n",
    "                           'COORDINATE', \n",
    "                           'STATUS', \n",
    "                           'SYMBOL', \n",
    "                           'TERMINATED', \n",
    "                           'DECIMALS',\n",
    "                            'Financial market statistics'])\n",
    "\n"
   ]
  },
  {
   "cell_type": "code",
   "execution_count": null,
   "id": "84bd03c7-55ee-45fb-89b8-b875489b9057",
   "metadata": {},
   "outputs": [],
   "source": []
  },
  {
   "cell_type": "code",
   "execution_count": null,
   "id": "b5b31d6e-bce2-4be7-855c-7918aac1345a",
   "metadata": {},
   "outputs": [],
   "source": []
  },
  {
   "cell_type": "code",
   "execution_count": 6,
   "id": "e24f48a0-842d-49e3-bed8-cb84ff551064",
   "metadata": {},
   "outputs": [],
   "source": [
    "#isolate 5, 10, and long term benchmark bond yeilds\n",
    "bond_5 = bond_df.loc[:10916]\n",
    "bond_5.reset_index(inplace=True, drop=True)\n",
    "\n",
    "bond_10 = bond_df.loc[10917:21833]\n",
    "bond_10.reset_index(inplace=True, drop=True)\n",
    "\n",
    "bond_long = bond_df.loc[21834:]\n",
    "bond_long.reset_index(inplace=True, drop=True)"
   ]
  },
  {
   "cell_type": "code",
   "execution_count": 7,
   "id": "1c213611-552f-40b6-a915-0fadc4f1c2d4",
   "metadata": {},
   "outputs": [
    {
     "data": {
      "text/html": [
       "<div>\n",
       "<style scoped>\n",
       "    .dataframe tbody tr th:only-of-type {\n",
       "        vertical-align: middle;\n",
       "    }\n",
       "\n",
       "    .dataframe tbody tr th {\n",
       "        vertical-align: top;\n",
       "    }\n",
       "\n",
       "    .dataframe thead th {\n",
       "        text-align: right;\n",
       "    }\n",
       "</style>\n",
       "<table border=\"1\" class=\"dataframe\">\n",
       "  <thead>\n",
       "    <tr style=\"text-align: right;\">\n",
       "      <th></th>\n",
       "      <th>REF_DATE</th>\n",
       "      <th>VALUE</th>\n",
       "      <th>REF_DATE</th>\n",
       "      <th>VALUE</th>\n",
       "      <th>REF_DATE</th>\n",
       "      <th>VALUE</th>\n",
       "    </tr>\n",
       "  </thead>\n",
       "  <tbody>\n",
       "    <tr>\n",
       "      <th>0</th>\n",
       "      <td>1990-01-28</td>\n",
       "      <td>0.00</td>\n",
       "      <td>1990-01-28</td>\n",
       "      <td>0.00</td>\n",
       "      <td>1990-01-28</td>\n",
       "      <td>0.00</td>\n",
       "    </tr>\n",
       "    <tr>\n",
       "      <th>1</th>\n",
       "      <td>1990-01-29</td>\n",
       "      <td>10.07</td>\n",
       "      <td>1990-01-29</td>\n",
       "      <td>10.00</td>\n",
       "      <td>1990-01-29</td>\n",
       "      <td>9.89</td>\n",
       "    </tr>\n",
       "    <tr>\n",
       "      <th>2</th>\n",
       "      <td>1990-01-31</td>\n",
       "      <td>10.02</td>\n",
       "      <td>1990-01-31</td>\n",
       "      <td>9.93</td>\n",
       "      <td>1990-01-31</td>\n",
       "      <td>9.75</td>\n",
       "    </tr>\n",
       "    <tr>\n",
       "      <th>3</th>\n",
       "      <td>1990-02-01</td>\n",
       "      <td>10.05</td>\n",
       "      <td>1990-02-01</td>\n",
       "      <td>9.94</td>\n",
       "      <td>1990-02-01</td>\n",
       "      <td>9.74</td>\n",
       "    </tr>\n",
       "    <tr>\n",
       "      <th>4</th>\n",
       "      <td>1990-02-02</td>\n",
       "      <td>10.07</td>\n",
       "      <td>1990-02-02</td>\n",
       "      <td>9.97</td>\n",
       "      <td>1990-02-02</td>\n",
       "      <td>9.79</td>\n",
       "    </tr>\n",
       "    <tr>\n",
       "      <th>...</th>\n",
       "      <td>...</td>\n",
       "      <td>...</td>\n",
       "      <td>...</td>\n",
       "      <td>...</td>\n",
       "      <td>...</td>\n",
       "      <td>...</td>\n",
       "    </tr>\n",
       "    <tr>\n",
       "      <th>10912</th>\n",
       "      <td>2021-11-27</td>\n",
       "      <td>0.00</td>\n",
       "      <td>2021-11-27</td>\n",
       "      <td>0.00</td>\n",
       "      <td>2021-11-27</td>\n",
       "      <td>0.00</td>\n",
       "    </tr>\n",
       "    <tr>\n",
       "      <th>10913</th>\n",
       "      <td>2021-11-28</td>\n",
       "      <td>0.00</td>\n",
       "      <td>2021-11-28</td>\n",
       "      <td>0.00</td>\n",
       "      <td>2021-11-28</td>\n",
       "      <td>0.00</td>\n",
       "    </tr>\n",
       "    <tr>\n",
       "      <th>10914</th>\n",
       "      <td>2021-11-29</td>\n",
       "      <td>1.41</td>\n",
       "      <td>2021-11-29</td>\n",
       "      <td>1.61</td>\n",
       "      <td>2021-11-29</td>\n",
       "      <td>1.94</td>\n",
       "    </tr>\n",
       "    <tr>\n",
       "      <th>10915</th>\n",
       "      <td>2021-11-30</td>\n",
       "      <td>1.40</td>\n",
       "      <td>2021-11-30</td>\n",
       "      <td>1.58</td>\n",
       "      <td>2021-11-30</td>\n",
       "      <td>1.89</td>\n",
       "    </tr>\n",
       "    <tr>\n",
       "      <th>10916</th>\n",
       "      <td>2021-12-01</td>\n",
       "      <td>1.35</td>\n",
       "      <td>2021-12-01</td>\n",
       "      <td>1.50</td>\n",
       "      <td>2021-12-01</td>\n",
       "      <td>1.82</td>\n",
       "    </tr>\n",
       "  </tbody>\n",
       "</table>\n",
       "<p>10917 rows × 6 columns</p>\n",
       "</div>"
      ],
      "text/plain": [
       "         REF_DATE  VALUE    REF_DATE  VALUE    REF_DATE  VALUE\n",
       "0      1990-01-28   0.00  1990-01-28   0.00  1990-01-28   0.00\n",
       "1      1990-01-29  10.07  1990-01-29  10.00  1990-01-29   9.89\n",
       "2      1990-01-31  10.02  1990-01-31   9.93  1990-01-31   9.75\n",
       "3      1990-02-01  10.05  1990-02-01   9.94  1990-02-01   9.74\n",
       "4      1990-02-02  10.07  1990-02-02   9.97  1990-02-02   9.79\n",
       "...           ...    ...         ...    ...         ...    ...\n",
       "10912  2021-11-27   0.00  2021-11-27   0.00  2021-11-27   0.00\n",
       "10913  2021-11-28   0.00  2021-11-28   0.00  2021-11-28   0.00\n",
       "10914  2021-11-29   1.41  2021-11-29   1.61  2021-11-29   1.94\n",
       "10915  2021-11-30   1.40  2021-11-30   1.58  2021-11-30   1.89\n",
       "10916  2021-12-01   1.35  2021-12-01   1.50  2021-12-01   1.82\n",
       "\n",
       "[10917 rows x 6 columns]"
      ]
     },
     "execution_count": 7,
     "metadata": {},
     "output_type": "execute_result"
    }
   ],
   "source": [
    "bond_combined = pd.concat([bond_5, bond_10, bond_long], join=\"inner\", axis=1)\n",
    "bond_combined"
   ]
  },
  {
   "cell_type": "code",
   "execution_count": 8,
   "id": "14367043-c89c-4d68-a8e2-bd3f515f7d16",
   "metadata": {},
   "outputs": [],
   "source": [
    "bond_combined.columns = ['date', '5_year_bond_benchmark', 'date2', '10_year_bond_benchmark', 'date3','long_term_bond_benchmark']"
   ]
  },
  {
   "cell_type": "code",
   "execution_count": 9,
   "id": "373b4397-4630-4490-8b98-f934c96e3770",
   "metadata": {},
   "outputs": [],
   "source": [
    "bond_combined.drop(columns=['date2', 'date3'], inplace=True)\n"
   ]
  },
  {
   "cell_type": "code",
   "execution_count": 13,
   "id": "7268fd21-060d-497e-bd33-9899febbc7e3",
   "metadata": {},
   "outputs": [
    {
     "data": {
      "text/html": [
       "<div>\n",
       "<style scoped>\n",
       "    .dataframe tbody tr th:only-of-type {\n",
       "        vertical-align: middle;\n",
       "    }\n",
       "\n",
       "    .dataframe tbody tr th {\n",
       "        vertical-align: top;\n",
       "    }\n",
       "\n",
       "    .dataframe thead th {\n",
       "        text-align: right;\n",
       "    }\n",
       "</style>\n",
       "<table border=\"1\" class=\"dataframe\">\n",
       "  <thead>\n",
       "    <tr style=\"text-align: right;\">\n",
       "      <th></th>\n",
       "      <th>date</th>\n",
       "      <th>5_year_bond_benchmark</th>\n",
       "      <th>10_year_bond_benchmark</th>\n",
       "      <th>long_term_bond_benchmark</th>\n",
       "    </tr>\n",
       "  </thead>\n",
       "  <tbody>\n",
       "    <tr>\n",
       "      <th>0</th>\n",
       "      <td>1990-01-28</td>\n",
       "      <td>0.00</td>\n",
       "      <td>0.00</td>\n",
       "      <td>0.00</td>\n",
       "    </tr>\n",
       "    <tr>\n",
       "      <th>1</th>\n",
       "      <td>1990-01-29</td>\n",
       "      <td>10.07</td>\n",
       "      <td>10.00</td>\n",
       "      <td>9.89</td>\n",
       "    </tr>\n",
       "    <tr>\n",
       "      <th>2</th>\n",
       "      <td>1990-01-31</td>\n",
       "      <td>10.02</td>\n",
       "      <td>9.93</td>\n",
       "      <td>9.75</td>\n",
       "    </tr>\n",
       "    <tr>\n",
       "      <th>3</th>\n",
       "      <td>1990-02-01</td>\n",
       "      <td>10.05</td>\n",
       "      <td>9.94</td>\n",
       "      <td>9.74</td>\n",
       "    </tr>\n",
       "    <tr>\n",
       "      <th>4</th>\n",
       "      <td>1990-02-02</td>\n",
       "      <td>10.07</td>\n",
       "      <td>9.97</td>\n",
       "      <td>9.79</td>\n",
       "    </tr>\n",
       "    <tr>\n",
       "      <th>...</th>\n",
       "      <td>...</td>\n",
       "      <td>...</td>\n",
       "      <td>...</td>\n",
       "      <td>...</td>\n",
       "    </tr>\n",
       "    <tr>\n",
       "      <th>10912</th>\n",
       "      <td>2021-11-27</td>\n",
       "      <td>0.00</td>\n",
       "      <td>0.00</td>\n",
       "      <td>0.00</td>\n",
       "    </tr>\n",
       "    <tr>\n",
       "      <th>10913</th>\n",
       "      <td>2021-11-28</td>\n",
       "      <td>0.00</td>\n",
       "      <td>0.00</td>\n",
       "      <td>0.00</td>\n",
       "    </tr>\n",
       "    <tr>\n",
       "      <th>10914</th>\n",
       "      <td>2021-11-29</td>\n",
       "      <td>1.41</td>\n",
       "      <td>1.61</td>\n",
       "      <td>1.94</td>\n",
       "    </tr>\n",
       "    <tr>\n",
       "      <th>10915</th>\n",
       "      <td>2021-11-30</td>\n",
       "      <td>1.40</td>\n",
       "      <td>1.58</td>\n",
       "      <td>1.89</td>\n",
       "    </tr>\n",
       "    <tr>\n",
       "      <th>10916</th>\n",
       "      <td>2021-12-01</td>\n",
       "      <td>1.35</td>\n",
       "      <td>1.50</td>\n",
       "      <td>1.82</td>\n",
       "    </tr>\n",
       "  </tbody>\n",
       "</table>\n",
       "<p>10917 rows × 4 columns</p>\n",
       "</div>"
      ],
      "text/plain": [
       "             date  5_year_bond_benchmark  10_year_bond_benchmark  \\\n",
       "0      1990-01-28                   0.00                    0.00   \n",
       "1      1990-01-29                  10.07                   10.00   \n",
       "2      1990-01-31                  10.02                    9.93   \n",
       "3      1990-02-01                  10.05                    9.94   \n",
       "4      1990-02-02                  10.07                    9.97   \n",
       "...           ...                    ...                     ...   \n",
       "10912  2021-11-27                   0.00                    0.00   \n",
       "10913  2021-11-28                   0.00                    0.00   \n",
       "10914  2021-11-29                   1.41                    1.61   \n",
       "10915  2021-11-30                   1.40                    1.58   \n",
       "10916  2021-12-01                   1.35                    1.50   \n",
       "\n",
       "       long_term_bond_benchmark  \n",
       "0                          0.00  \n",
       "1                          9.89  \n",
       "2                          9.75  \n",
       "3                          9.74  \n",
       "4                          9.79  \n",
       "...                         ...  \n",
       "10912                      0.00  \n",
       "10913                      0.00  \n",
       "10914                      1.94  \n",
       "10915                      1.89  \n",
       "10916                      1.82  \n",
       "\n",
       "[10917 rows x 4 columns]"
      ]
     },
     "execution_count": 13,
     "metadata": {},
     "output_type": "execute_result"
    }
   ],
   "source": []
  },
  {
   "cell_type": "code",
   "execution_count": 22,
   "id": "9fe194d3-f3e1-4f45-a0e1-868ea009a76a",
   "metadata": {},
   "outputs": [],
   "source": [
    "#Pick non-zero values which turns all zero values into nan and remove nan-values\n",
    "bond_combined = bond_combined[bond_combined!=0].dropna()"
   ]
  },
  {
   "cell_type": "code",
   "execution_count": 23,
   "id": "f7b3dd21-f49a-4509-b6d5-e7a34a5d33b2",
   "metadata": {},
   "outputs": [
    {
     "data": {
      "text/html": [
       "<div>\n",
       "<style scoped>\n",
       "    .dataframe tbody tr th:only-of-type {\n",
       "        vertical-align: middle;\n",
       "    }\n",
       "\n",
       "    .dataframe tbody tr th {\n",
       "        vertical-align: top;\n",
       "    }\n",
       "\n",
       "    .dataframe thead th {\n",
       "        text-align: right;\n",
       "    }\n",
       "</style>\n",
       "<table border=\"1\" class=\"dataframe\">\n",
       "  <thead>\n",
       "    <tr style=\"text-align: right;\">\n",
       "      <th></th>\n",
       "      <th>date</th>\n",
       "      <th>5_year_bond_benchmark</th>\n",
       "      <th>10_year_bond_benchmark</th>\n",
       "      <th>long_term_bond_benchmark</th>\n",
       "    </tr>\n",
       "  </thead>\n",
       "  <tbody>\n",
       "    <tr>\n",
       "      <th>0</th>\n",
       "      <td>1990-01</td>\n",
       "      <td>10.045000</td>\n",
       "      <td>9.965000</td>\n",
       "      <td>9.820000</td>\n",
       "    </tr>\n",
       "    <tr>\n",
       "      <th>1</th>\n",
       "      <td>1990-02</td>\n",
       "      <td>10.538182</td>\n",
       "      <td>10.253636</td>\n",
       "      <td>9.999091</td>\n",
       "    </tr>\n",
       "    <tr>\n",
       "      <th>2</th>\n",
       "      <td>1990-03</td>\n",
       "      <td>11.147692</td>\n",
       "      <td>10.761538</td>\n",
       "      <td>10.596154</td>\n",
       "    </tr>\n",
       "    <tr>\n",
       "      <th>3</th>\n",
       "      <td>1990-04</td>\n",
       "      <td>12.175000</td>\n",
       "      <td>11.519286</td>\n",
       "      <td>11.275714</td>\n",
       "    </tr>\n",
       "    <tr>\n",
       "      <th>4</th>\n",
       "      <td>1990-05</td>\n",
       "      <td>11.741538</td>\n",
       "      <td>11.125385</td>\n",
       "      <td>10.990000</td>\n",
       "    </tr>\n",
       "    <tr>\n",
       "      <th>...</th>\n",
       "      <td>...</td>\n",
       "      <td>...</td>\n",
       "      <td>...</td>\n",
       "      <td>...</td>\n",
       "    </tr>\n",
       "    <tr>\n",
       "      <th>379</th>\n",
       "      <td>2021-08</td>\n",
       "      <td>0.837143</td>\n",
       "      <td>1.191905</td>\n",
       "      <td>1.755238</td>\n",
       "    </tr>\n",
       "    <tr>\n",
       "      <th>380</th>\n",
       "      <td>2021-09</td>\n",
       "      <td>0.884000</td>\n",
       "      <td>1.263000</td>\n",
       "      <td>1.803500</td>\n",
       "    </tr>\n",
       "    <tr>\n",
       "      <th>381</th>\n",
       "      <td>2021-10</td>\n",
       "      <td>1.258500</td>\n",
       "      <td>1.597000</td>\n",
       "      <td>2.007500</td>\n",
       "    </tr>\n",
       "    <tr>\n",
       "      <th>382</th>\n",
       "      <td>2021-11</td>\n",
       "      <td>1.465000</td>\n",
       "      <td>1.686000</td>\n",
       "      <td>2.028000</td>\n",
       "    </tr>\n",
       "    <tr>\n",
       "      <th>383</th>\n",
       "      <td>2021-12</td>\n",
       "      <td>1.350000</td>\n",
       "      <td>1.500000</td>\n",
       "      <td>1.820000</td>\n",
       "    </tr>\n",
       "  </tbody>\n",
       "</table>\n",
       "<p>384 rows × 4 columns</p>\n",
       "</div>"
      ],
      "text/plain": [
       "        date  5_year_bond_benchmark  10_year_bond_benchmark  \\\n",
       "0    1990-01              10.045000                9.965000   \n",
       "1    1990-02              10.538182               10.253636   \n",
       "2    1990-03              11.147692               10.761538   \n",
       "3    1990-04              12.175000               11.519286   \n",
       "4    1990-05              11.741538               11.125385   \n",
       "..       ...                    ...                     ...   \n",
       "379  2021-08               0.837143                1.191905   \n",
       "380  2021-09               0.884000                1.263000   \n",
       "381  2021-10               1.258500                1.597000   \n",
       "382  2021-11               1.465000                1.686000   \n",
       "383  2021-12               1.350000                1.500000   \n",
       "\n",
       "     long_term_bond_benchmark  \n",
       "0                    9.820000  \n",
       "1                    9.999091  \n",
       "2                   10.596154  \n",
       "3                   11.275714  \n",
       "4                   10.990000  \n",
       "..                        ...  \n",
       "379                  1.755238  \n",
       "380                  1.803500  \n",
       "381                  2.007500  \n",
       "382                  2.028000  \n",
       "383                  1.820000  \n",
       "\n",
       "[384 rows x 4 columns]"
      ]
     },
     "execution_count": 23,
     "metadata": {},
     "output_type": "execute_result"
    }
   ],
   "source": [
    "#determine monthly average yeild for each bond length to align weith other datasets\n",
    "bond_combined.groupby(pd.PeriodIndex(bond_combined['date'], freq=\"M\"))['5_year_bond_benchmark','10_year_bond_benchmark','long_term_bond_benchmark'].mean().reset_index()"
   ]
  },
  {
   "cell_type": "code",
   "execution_count": 28,
   "id": "442b500d-f6a3-4ebf-aa5d-c250a3459c78",
   "metadata": {},
   "outputs": [
    {
     "data": {
      "text/plain": [
       "<AxesSubplot:xlabel='Date'>"
      ]
     },
     "execution_count": 28,
     "metadata": {},
     "output_type": "execute_result"
    },
    {
     "data": {
      "image/png": "[encoded data removed]",
      "text/plain": [
       "<Figure size 432x288 with 1 Axes>"
      ]
     },
     "metadata": {
      "needs_background": "light"
     },
     "output_type": "display_data"
    },
    {
     "data": {
      "image/png": "[encoded data removed]",
      "text/plain": [
       "<Figure size 432x288 with 1 Axes>"
      ]
     },
     "metadata": {
      "needs_background": "light"
     },
     "output_type": "display_data"
    }
   ],
   "source": [
    "mortgage_df2 = mortgage_df.loc[\"01-01-1990\":]\n",
    "bond_combined.plot()\n",
    "mortgage_df2.plot()"
   ]
  },
  {
   "cell_type": "code",
   "execution_count": 10,
   "id": "7e49f6fa-4e40-423a-a3c6-816952672c04",
   "metadata": {},
   "outputs": [],
   "source": [
    "#isloate data from 1990 to present for datasets\n",
    "mortgage_df2 = mortgage_df.loc[\"01-01-1990\":]\n"
   ]
  },
  {
   "cell_type": "code",
   "execution_count": 11,
   "id": "dc06eb85-b412-4e34-bc14-0c76f98625e2",
   "metadata": {},
   "outputs": [],
   "source": [
    "boc_df2 = boc_df.loc[\"Jan 1990\":]"
   ]
  },
  {
   "cell_type": "code",
   "execution_count": null,
   "id": "6eb58747-c586-45db-99f4-fa665fa3b83d",
   "metadata": {},
   "outputs": [],
   "source": []
  },
  {
   "cell_type": "code",
   "execution_count": 12,
   "id": "5c6a4471-8f62-4542-889a-e65918900d39",
   "metadata": {},
   "outputs": [],
   "source": [
    "inflation_df = inflation_df.drop(columns=['GEO',\n",
    "                           'DGUID',\n",
    "                           'Alternative measures', \n",
    "                           'Release', \n",
    "                           'UOM', \n",
    "                           'UOM_ID', \n",
    "                           'SCALAR_FACTOR', \n",
    "                           'SCALAR_ID', \n",
    "                           'VECTOR', \n",
    "                           'COORDINATE', \n",
    "                           'STATUS', \n",
    "                           'SYMBOL', \n",
    "                           'TERMINATED', \n",
    "                           'DECIMALS'])\n",
    "                "
   ]
  },
  {
   "cell_type": "code",
   "execution_count": 13,
   "id": "298dded8-86b1-480e-9f42-6f54146f0954",
   "metadata": {},
   "outputs": [
    {
     "name": "stderr",
     "output_type": "stream",
     "text": [
      "C:\\Users\\Curtis\\anaconda3\\lib\\site-packages\\pandas\\core\\frame.py:4906: SettingWithCopyWarning: \n",
      "A value is trying to be set on a copy of a slice from a DataFrame\n",
      "\n",
      "See the caveats in the documentation: https://pandas.pydata.org/pandas-docs/stable/user_guide/indexing.html#returning-a-view-versus-a-copy\n",
      "  return super().drop(\n"
     ]
    },
    {
     "data": {
      "text/plain": [
       "<AxesSubplot:>"
      ]
     },
     "execution_count": 13,
     "metadata": {},
     "output_type": "execute_result"
    },
    {
     "data": {
      "image/png": "[encoded data removed]",
      "text/plain": [
       "<Figure size 1440x720 with 1 Axes>"
      ]
     },
     "metadata": {
      "needs_background": "light"
     },
     "output_type": "display_data"
    }
   ],
   "source": [
    "inflation_common = inflation_df.loc[0:381]\n",
    "inflation_common.reset_index(inplace=True)\n",
    "inflation_common.drop(columns=['index'], inplace=True)\n",
    "inflation_common.head()\n",
    "inflation_common.plot(figsize=(20,10))"
   ]
  },
  {
   "cell_type": "code",
   "execution_count": null,
   "id": "65be6b7c-8273-4310-b480-4da56609067f",
   "metadata": {},
   "outputs": [],
   "source": []
  },
  {
   "cell_type": "code",
   "execution_count": null,
   "id": "5f711110-0b1b-4c4f-98f4-fec55b153875",
   "metadata": {},
   "outputs": [],
   "source": []
  },
  {
   "cell_type": "code",
   "execution_count": 14,
   "id": "8a431716-a0e2-4a47-a770-911a90370ed0",
   "metadata": {},
   "outputs": [
    {
     "data": {
      "text/html": [
       "<div>\n",
       "<style scoped>\n",
       "    .dataframe tbody tr th:only-of-type {\n",
       "        vertical-align: middle;\n",
       "    }\n",
       "\n",
       "    .dataframe tbody tr th {\n",
       "        vertical-align: top;\n",
       "    }\n",
       "\n",
       "    .dataframe thead th {\n",
       "        text-align: right;\n",
       "    }\n",
       "</style>\n",
       "<table border=\"1\" class=\"dataframe\">\n",
       "  <thead>\n",
       "    <tr style=\"text-align: right;\">\n",
       "      <th></th>\n",
       "      <th>REF_DATE</th>\n",
       "      <th>VALUE</th>\n",
       "    </tr>\n",
       "  </thead>\n",
       "  <tbody>\n",
       "    <tr>\n",
       "      <th>0</th>\n",
       "      <td>1990-01</td>\n",
       "      <td>4.7</td>\n",
       "    </tr>\n",
       "    <tr>\n",
       "      <th>1</th>\n",
       "      <td>1990-02</td>\n",
       "      <td>4.5</td>\n",
       "    </tr>\n",
       "    <tr>\n",
       "      <th>2</th>\n",
       "      <td>1990-03</td>\n",
       "      <td>4.3</td>\n",
       "    </tr>\n",
       "    <tr>\n",
       "      <th>3</th>\n",
       "      <td>1990-04</td>\n",
       "      <td>4.2</td>\n",
       "    </tr>\n",
       "    <tr>\n",
       "      <th>4</th>\n",
       "      <td>1990-05</td>\n",
       "      <td>4.0</td>\n",
       "    </tr>\n",
       "  </tbody>\n",
       "</table>\n",
       "</div>"
      ],
      "text/plain": [
       "  REF_DATE  VALUE\n",
       "0  1990-01    4.7\n",
       "1  1990-02    4.5\n",
       "2  1990-03    4.3\n",
       "3  1990-04    4.2\n",
       "4  1990-05    4.0"
      ]
     },
     "execution_count": 14,
     "metadata": {},
     "output_type": "execute_result"
    }
   ],
   "source": [
    "inflation_weighted_median = inflation_df.loc[1910:2292] \n",
    "inflation_weighted_median.reset_index(inplace=True, drop=True)\n",
    "inflation_weighted_median.head()"
   ]
  },
  {
   "cell_type": "code",
   "execution_count": 15,
   "id": "080adeac-1cd6-461c-85d5-1820315db363",
   "metadata": {},
   "outputs": [
    {
     "data": {
      "text/html": [
       "<div>\n",
       "<style scoped>\n",
       "    .dataframe tbody tr th:only-of-type {\n",
       "        vertical-align: middle;\n",
       "    }\n",
       "\n",
       "    .dataframe tbody tr th {\n",
       "        vertical-align: top;\n",
       "    }\n",
       "\n",
       "    .dataframe thead th {\n",
       "        text-align: right;\n",
       "    }\n",
       "</style>\n",
       "<table border=\"1\" class=\"dataframe\">\n",
       "  <thead>\n",
       "    <tr style=\"text-align: right;\">\n",
       "      <th></th>\n",
       "      <th>REF_DATE</th>\n",
       "      <th>VALUE</th>\n",
       "    </tr>\n",
       "  </thead>\n",
       "  <tbody>\n",
       "    <tr>\n",
       "      <th>0</th>\n",
       "      <td>1990-01</td>\n",
       "      <td>4.9</td>\n",
       "    </tr>\n",
       "    <tr>\n",
       "      <th>1</th>\n",
       "      <td>1990-02</td>\n",
       "      <td>4.7</td>\n",
       "    </tr>\n",
       "    <tr>\n",
       "      <th>2</th>\n",
       "      <td>1990-03</td>\n",
       "      <td>4.6</td>\n",
       "    </tr>\n",
       "    <tr>\n",
       "      <th>3</th>\n",
       "      <td>1990-04</td>\n",
       "      <td>4.5</td>\n",
       "    </tr>\n",
       "    <tr>\n",
       "      <th>4</th>\n",
       "      <td>1990-05</td>\n",
       "      <td>4.3</td>\n",
       "    </tr>\n",
       "  </tbody>\n",
       "</table>\n",
       "</div>"
      ],
      "text/plain": [
       "  REF_DATE  VALUE\n",
       "0  1990-01    4.9\n",
       "1  1990-02    4.7\n",
       "2  1990-03    4.6\n",
       "3  1990-04    4.5\n",
       "4  1990-05    4.3"
      ]
     },
     "execution_count": 15,
     "metadata": {},
     "output_type": "execute_result"
    }
   ],
   "source": [
    "inflation_trimmed_median = inflation_df.loc[3820:4202]\n",
    "inflation_trimmed_median.reset_index(inplace=True, drop=True)\n",
    "inflation_trimmed_median.head()"
   ]
  },
  {
   "cell_type": "code",
   "execution_count": 16,
   "id": "b7b26edf-fc36-44d7-80df-6d8cafa54114",
   "metadata": {},
   "outputs": [
    {
     "data": {
      "text/html": [
       "<div>\n",
       "<style scoped>\n",
       "    .dataframe tbody tr th:only-of-type {\n",
       "        vertical-align: middle;\n",
       "    }\n",
       "\n",
       "    .dataframe tbody tr th {\n",
       "        vertical-align: top;\n",
       "    }\n",
       "\n",
       "    .dataframe thead th {\n",
       "        text-align: right;\n",
       "    }\n",
       "</style>\n",
       "<table border=\"1\" class=\"dataframe\">\n",
       "  <thead>\n",
       "    <tr style=\"text-align: right;\">\n",
       "      <th></th>\n",
       "      <th>REF_DATE</th>\n",
       "      <th>VALUE</th>\n",
       "      <th>REF_DATE</th>\n",
       "      <th>VALUE</th>\n",
       "      <th>REF_DATE</th>\n",
       "      <th>VALUE</th>\n",
       "    </tr>\n",
       "  </thead>\n",
       "  <tbody>\n",
       "    <tr>\n",
       "      <th>0</th>\n",
       "      <td>1990-01</td>\n",
       "      <td>3.4</td>\n",
       "      <td>1990-01</td>\n",
       "      <td>4.9</td>\n",
       "      <td>1990-01</td>\n",
       "      <td>4.7</td>\n",
       "    </tr>\n",
       "    <tr>\n",
       "      <th>1</th>\n",
       "      <td>1990-02</td>\n",
       "      <td>3.3</td>\n",
       "      <td>1990-02</td>\n",
       "      <td>4.7</td>\n",
       "      <td>1990-02</td>\n",
       "      <td>4.5</td>\n",
       "    </tr>\n",
       "    <tr>\n",
       "      <th>2</th>\n",
       "      <td>1990-03</td>\n",
       "      <td>3.4</td>\n",
       "      <td>1990-03</td>\n",
       "      <td>4.6</td>\n",
       "      <td>1990-03</td>\n",
       "      <td>4.3</td>\n",
       "    </tr>\n",
       "    <tr>\n",
       "      <th>3</th>\n",
       "      <td>1990-04</td>\n",
       "      <td>3.5</td>\n",
       "      <td>1990-04</td>\n",
       "      <td>4.5</td>\n",
       "      <td>1990-04</td>\n",
       "      <td>4.2</td>\n",
       "    </tr>\n",
       "    <tr>\n",
       "      <th>4</th>\n",
       "      <td>1990-05</td>\n",
       "      <td>3.6</td>\n",
       "      <td>1990-05</td>\n",
       "      <td>4.3</td>\n",
       "      <td>1990-05</td>\n",
       "      <td>4.0</td>\n",
       "    </tr>\n",
       "    <tr>\n",
       "      <th>...</th>\n",
       "      <td>...</td>\n",
       "      <td>...</td>\n",
       "      <td>...</td>\n",
       "      <td>...</td>\n",
       "      <td>...</td>\n",
       "      <td>...</td>\n",
       "    </tr>\n",
       "    <tr>\n",
       "      <th>377</th>\n",
       "      <td>2021-06</td>\n",
       "      <td>1.7</td>\n",
       "      <td>2021-06</td>\n",
       "      <td>2.6</td>\n",
       "      <td>2021-06</td>\n",
       "      <td>2.4</td>\n",
       "    </tr>\n",
       "    <tr>\n",
       "      <th>378</th>\n",
       "      <td>2021-07</td>\n",
       "      <td>1.7</td>\n",
       "      <td>2021-07</td>\n",
       "      <td>3.1</td>\n",
       "      <td>2021-07</td>\n",
       "      <td>2.7</td>\n",
       "    </tr>\n",
       "    <tr>\n",
       "      <th>379</th>\n",
       "      <td>2021-08</td>\n",
       "      <td>1.8</td>\n",
       "      <td>2021-08</td>\n",
       "      <td>3.2</td>\n",
       "      <td>2021-08</td>\n",
       "      <td>2.8</td>\n",
       "    </tr>\n",
       "    <tr>\n",
       "      <th>380</th>\n",
       "      <td>2021-09</td>\n",
       "      <td>1.8</td>\n",
       "      <td>2021-09</td>\n",
       "      <td>3.3</td>\n",
       "      <td>2021-09</td>\n",
       "      <td>2.9</td>\n",
       "    </tr>\n",
       "    <tr>\n",
       "      <th>381</th>\n",
       "      <td>2021-10</td>\n",
       "      <td>1.8</td>\n",
       "      <td>2021-10</td>\n",
       "      <td>3.3</td>\n",
       "      <td>2021-10</td>\n",
       "      <td>2.9</td>\n",
       "    </tr>\n",
       "  </tbody>\n",
       "</table>\n",
       "<p>382 rows × 6 columns</p>\n",
       "</div>"
      ],
      "text/plain": [
       "    REF_DATE  VALUE REF_DATE  VALUE REF_DATE  VALUE\n",
       "0    1990-01    3.4  1990-01    4.9  1990-01    4.7\n",
       "1    1990-02    3.3  1990-02    4.7  1990-02    4.5\n",
       "2    1990-03    3.4  1990-03    4.6  1990-03    4.3\n",
       "3    1990-04    3.5  1990-04    4.5  1990-04    4.2\n",
       "4    1990-05    3.6  1990-05    4.3  1990-05    4.0\n",
       "..       ...    ...      ...    ...      ...    ...\n",
       "377  2021-06    1.7  2021-06    2.6  2021-06    2.4\n",
       "378  2021-07    1.7  2021-07    3.1  2021-07    2.7\n",
       "379  2021-08    1.8  2021-08    3.2  2021-08    2.8\n",
       "380  2021-09    1.8  2021-09    3.3  2021-09    2.9\n",
       "381  2021-10    1.8  2021-10    3.3  2021-10    2.9\n",
       "\n",
       "[382 rows x 6 columns]"
      ]
     },
     "execution_count": 16,
     "metadata": {},
     "output_type": "execute_result"
    }
   ],
   "source": [
    "inflation_combined = pd.concat([inflation_common, inflation_trimmed_median, inflation_weighted_median], join=\"inner\", axis=1)\n",
    "inflation_combined"
   ]
  },
  {
   "cell_type": "code",
   "execution_count": 17,
   "id": "ef14282f-ace0-4d8e-b7bb-43cb0417c8ad",
   "metadata": {},
   "outputs": [
    {
     "data": {
      "text/html": [
       "<div>\n",
       "<style scoped>\n",
       "    .dataframe tbody tr th:only-of-type {\n",
       "        vertical-align: middle;\n",
       "    }\n",
       "\n",
       "    .dataframe tbody tr th {\n",
       "        vertical-align: top;\n",
       "    }\n",
       "\n",
       "    .dataframe thead th {\n",
       "        text-align: right;\n",
       "    }\n",
       "</style>\n",
       "<table border=\"1\" class=\"dataframe\">\n",
       "  <thead>\n",
       "    <tr style=\"text-align: right;\">\n",
       "      <th></th>\n",
       "      <th>date</th>\n",
       "      <th>inflation_common</th>\n",
       "      <th>date2</th>\n",
       "      <th>inflation_trimmed_median</th>\n",
       "      <th>date3</th>\n",
       "      <th>inflation_weighted_median</th>\n",
       "    </tr>\n",
       "  </thead>\n",
       "  <tbody>\n",
       "    <tr>\n",
       "      <th>0</th>\n",
       "      <td>1990-01</td>\n",
       "      <td>3.4</td>\n",
       "      <td>1990-01</td>\n",
       "      <td>4.9</td>\n",
       "      <td>1990-01</td>\n",
       "      <td>4.7</td>\n",
       "    </tr>\n",
       "    <tr>\n",
       "      <th>1</th>\n",
       "      <td>1990-02</td>\n",
       "      <td>3.3</td>\n",
       "      <td>1990-02</td>\n",
       "      <td>4.7</td>\n",
       "      <td>1990-02</td>\n",
       "      <td>4.5</td>\n",
       "    </tr>\n",
       "    <tr>\n",
       "      <th>2</th>\n",
       "      <td>1990-03</td>\n",
       "      <td>3.4</td>\n",
       "      <td>1990-03</td>\n",
       "      <td>4.6</td>\n",
       "      <td>1990-03</td>\n",
       "      <td>4.3</td>\n",
       "    </tr>\n",
       "    <tr>\n",
       "      <th>3</th>\n",
       "      <td>1990-04</td>\n",
       "      <td>3.5</td>\n",
       "      <td>1990-04</td>\n",
       "      <td>4.5</td>\n",
       "      <td>1990-04</td>\n",
       "      <td>4.2</td>\n",
       "    </tr>\n",
       "    <tr>\n",
       "      <th>4</th>\n",
       "      <td>1990-05</td>\n",
       "      <td>3.6</td>\n",
       "      <td>1990-05</td>\n",
       "      <td>4.3</td>\n",
       "      <td>1990-05</td>\n",
       "      <td>4.0</td>\n",
       "    </tr>\n",
       "  </tbody>\n",
       "</table>\n",
       "</div>"
      ],
      "text/plain": [
       "      date  inflation_common    date2  inflation_trimmed_median    date3  \\\n",
       "0  1990-01               3.4  1990-01                       4.9  1990-01   \n",
       "1  1990-02               3.3  1990-02                       4.7  1990-02   \n",
       "2  1990-03               3.4  1990-03                       4.6  1990-03   \n",
       "3  1990-04               3.5  1990-04                       4.5  1990-04   \n",
       "4  1990-05               3.6  1990-05                       4.3  1990-05   \n",
       "\n",
       "   inflation_weighted_median  \n",
       "0                        4.7  \n",
       "1                        4.5  \n",
       "2                        4.3  \n",
       "3                        4.2  \n",
       "4                        4.0  "
      ]
     },
     "execution_count": 17,
     "metadata": {},
     "output_type": "execute_result"
    }
   ],
   "source": [
    "inflation_combined.columns = ['date', 'inflation_common', 'date2', 'inflation_trimmed_median', 'date3','inflation_weighted_median']\n",
    "inflation_combined.head()"
   ]
  },
  {
   "cell_type": "code",
   "execution_count": 18,
   "id": "fb7e9a57-2814-49c6-97a8-974352b1ecfc",
   "metadata": {},
   "outputs": [],
   "source": [
    "inflation_combined.drop(columns=['date2','date3'], inplace=True)\n"
   ]
  },
  {
   "cell_type": "code",
   "execution_count": 39,
   "id": "7477a8a9-de30-447d-bb44-bf1bae590dd7",
   "metadata": {},
   "outputs": [
    {
     "data": {
      "text/html": [
       "<div>\n",
       "<style scoped>\n",
       "    .dataframe tbody tr th:only-of-type {\n",
       "        vertical-align: middle;\n",
       "    }\n",
       "\n",
       "    .dataframe tbody tr th {\n",
       "        vertical-align: top;\n",
       "    }\n",
       "\n",
       "    .dataframe thead th {\n",
       "        text-align: right;\n",
       "    }\n",
       "</style>\n",
       "<table border=\"1\" class=\"dataframe\">\n",
       "  <thead>\n",
       "    <tr style=\"text-align: right;\">\n",
       "      <th></th>\n",
       "      <th>date</th>\n",
       "      <th>inflation_common</th>\n",
       "      <th>inflation_trimmed_median</th>\n",
       "      <th>inflation_weighted_median</th>\n",
       "    </tr>\n",
       "  </thead>\n",
       "  <tbody>\n",
       "    <tr>\n",
       "      <th>0</th>\n",
       "      <td>1990-01</td>\n",
       "      <td>3.4</td>\n",
       "      <td>4.9</td>\n",
       "      <td>4.7</td>\n",
       "    </tr>\n",
       "    <tr>\n",
       "      <th>1</th>\n",
       "      <td>1990-02</td>\n",
       "      <td>3.3</td>\n",
       "      <td>4.7</td>\n",
       "      <td>4.5</td>\n",
       "    </tr>\n",
       "    <tr>\n",
       "      <th>2</th>\n",
       "      <td>1990-03</td>\n",
       "      <td>3.4</td>\n",
       "      <td>4.6</td>\n",
       "      <td>4.3</td>\n",
       "    </tr>\n",
       "    <tr>\n",
       "      <th>3</th>\n",
       "      <td>1990-04</td>\n",
       "      <td>3.5</td>\n",
       "      <td>4.5</td>\n",
       "      <td>4.2</td>\n",
       "    </tr>\n",
       "    <tr>\n",
       "      <th>4</th>\n",
       "      <td>1990-05</td>\n",
       "      <td>3.6</td>\n",
       "      <td>4.3</td>\n",
       "      <td>4.0</td>\n",
       "    </tr>\n",
       "  </tbody>\n",
       "</table>\n",
       "</div>"
      ],
      "text/plain": [
       "      date  inflation_common  inflation_trimmed_median  \\\n",
       "0  1990-01               3.4                       4.9   \n",
       "1  1990-02               3.3                       4.7   \n",
       "2  1990-03               3.4                       4.6   \n",
       "3  1990-04               3.5                       4.5   \n",
       "4  1990-05               3.6                       4.3   \n",
       "\n",
       "   inflation_weighted_median  \n",
       "0                        4.7  \n",
       "1                        4.5  \n",
       "2                        4.3  \n",
       "3                        4.2  \n",
       "4                        4.0  "
      ]
     },
     "execution_count": 39,
     "metadata": {},
     "output_type": "execute_result"
    }
   ],
   "source": [
    "inflation_combined.head()"
   ]
  },
  {
   "cell_type": "code",
   "execution_count": null,
   "id": "384f86dc-f978-4615-986a-cde4b3107aed",
   "metadata": {},
   "outputs": [],
   "source": []
  },
  {
   "cell_type": "code",
   "execution_count": null,
   "id": "8a59a923-672d-457c-a62e-250e070ec4b8",
   "metadata": {},
   "outputs": [],
   "source": []
  },
  {
   "cell_type": "code",
   "execution_count": 20,
   "id": "10c5a086-1933-4114-a67f-acec4c9e7a31",
   "metadata": {},
   "outputs": [
    {
     "data": {
      "text/html": [
       "<div>\n",
       "<style scoped>\n",
       "    .dataframe tbody tr th:only-of-type {\n",
       "        vertical-align: middle;\n",
       "    }\n",
       "\n",
       "    .dataframe tbody tr th {\n",
       "        vertical-align: top;\n",
       "    }\n",
       "\n",
       "    .dataframe thead th {\n",
       "        text-align: right;\n",
       "    }\n",
       "</style>\n",
       "<table border=\"1\" class=\"dataframe\">\n",
       "  <thead>\n",
       "    <tr style=\"text-align: right;\">\n",
       "      <th></th>\n",
       "      <th>Mortgage Rate</th>\n",
       "    </tr>\n",
       "    <tr>\n",
       "      <th>Date</th>\n",
       "      <th></th>\n",
       "    </tr>\n",
       "  </thead>\n",
       "  <tbody>\n",
       "    <tr>\n",
       "      <th>1951-06-01</th>\n",
       "      <td>5.50</td>\n",
       "    </tr>\n",
       "    <tr>\n",
       "      <th>1951-07-01</th>\n",
       "      <td>5.62</td>\n",
       "    </tr>\n",
       "    <tr>\n",
       "      <th>1951-08-01</th>\n",
       "      <td>5.62</td>\n",
       "    </tr>\n",
       "    <tr>\n",
       "      <th>1951-09-01</th>\n",
       "      <td>5.75</td>\n",
       "    </tr>\n",
       "    <tr>\n",
       "      <th>1951-10-01</th>\n",
       "      <td>5.75</td>\n",
       "    </tr>\n",
       "  </tbody>\n",
       "</table>\n",
       "</div>"
      ],
      "text/plain": [
       "            Mortgage Rate\n",
       "Date                     \n",
       "1951-06-01           5.50\n",
       "1951-07-01           5.62\n",
       "1951-08-01           5.62\n",
       "1951-09-01           5.75\n",
       "1951-10-01           5.75"
      ]
     },
     "execution_count": 20,
     "metadata": {},
     "output_type": "execute_result"
    }
   ],
   "source": [
    "mortgage_rate_df = pd.read_excel(file_path, index_col='Date')\n",
    "mortgage_rate_df.head()"
   ]
  },
  {
   "cell_type": "code",
   "execution_count": null,
   "id": "f05787ab-276d-4e8c-8862-b6caafc080ea",
   "metadata": {},
   "outputs": [],
   "source": []
  },
  {
   "cell_type": "code",
   "execution_count": 22,
   "id": "e01b9e5d-ebda-487d-9a87-d9876ab40062",
   "metadata": {},
   "outputs": [],
   "source": [
    "mortgage_rate_df['Monthly Change'] = mortgage_rate_df.pct_change()"
   ]
  },
  {
   "cell_type": "code",
   "execution_count": null,
   "id": "4a4fbcff-cf5a-4a99-aaf1-8d924fe49f5f",
   "metadata": {},
   "outputs": [],
   "source": []
  },
  {
   "cell_type": "code",
   "execution_count": 23,
   "id": "bfc5e69e-38e3-4940-b3a7-df349b5004f5",
   "metadata": {},
   "outputs": [],
   "source": [
    "# Select only the returns\n",
    "monthly_change = mortgage_rate_df.loc[:, 'Monthly Change']"
   ]
  },
  {
   "cell_type": "code",
   "execution_count": 24,
   "id": "c3637b59-e576-487a-97e6-5672ee4f2030",
   "metadata": {},
   "outputs": [],
   "source": [
    "# Import the ARMA model\n",
    "from statsmodels.tsa.arima.model import ARIMA"
   ]
  },
  {
   "cell_type": "code",
   "execution_count": 25,
   "id": "df63279f-7f74-44db-8427-477473db998c",
   "metadata": {},
   "outputs": [],
   "source": [
    "# Create the ARMA model using the return values and the order\n",
    "# For the order parameter, the first 1 indicates the number of AR lags\n",
    "# For the order parameter, the second 1 indicates the number of MA lags\n",
    "model = ARIMA(monthly_change.values, order=(1,0,1))"
   ]
  },
  {
   "cell_type": "code",
   "execution_count": 27,
   "id": "9573bf18-5281-4502-ad6a-79c7f55018e2",
   "metadata": {},
   "outputs": [
    {
     "data": {
      "text/plain": [
       "<AxesSubplot:xlabel='REF_DATE'>"
      ]
     },
     "execution_count": 27,
     "metadata": {},
     "output_type": "execute_result"
    },
    {
     "data": {
      "image/png": "[encoded data removed]",
      "text/plain": [
       "<Figure size 432x288 with 1 Axes>"
      ]
     },
     "metadata": {
      "needs_background": "light"
     },
     "output_type": "display_data"
    },
    {
     "data": {
      "image/png": "[encoded data removed]",
      "text/plain": [
       "<Figure size 432x288 with 1 Axes>"
      ]
     },
     "metadata": {
      "needs_background": "light"
     },
     "output_type": "display_data"
    },
    {
     "data": {
      "image/png": "[encoded data removed]",
      "text/plain": [
       "<Figure size 432x288 with 1 Axes>"
      ]
     },
     "metadata": {
      "needs_background": "light"
     },
     "output_type": "display_data"
    },
    {
     "data": {
      "image/png": "[encoded data removed]",
      "text/plain": [
       "<Figure size 432x288 with 1 Axes>"
      ]
     },
     "metadata": {
      "needs_background": "light"
     },
     "output_type": "display_data"
    }
   ],
   "source": [
    "mortgage_df2.plot()\n",
    "boc_df2.plot()\n",
    "inflation_common.plot()\n",
    "bond_5.plot(kind='line')"
   ]
  },
  {
   "cell_type": "code",
   "execution_count": null,
   "id": "3059acec-89e0-481b-b026-e21751623845",
   "metadata": {},
   "outputs": [],
   "source": []
  },
  {
   "cell_type": "code",
   "execution_count": null,
   "id": "35c00e6e-be17-444f-8ec1-763bff6db7e5",
   "metadata": {},
   "outputs": [],
   "source": []
  }
 ],
 "metadata": {
  "kernelspec": {
   "display_name": "Python 3 (ipykernel)",
   "language": "python",
   "name": "python3"
  },
  "language_info": {
   "codemirror_mode": {
    "name": "ipython",
    "version": 3
   },
   "file_extension": ".py",
   "mimetype": "text/x-python",
   "name": "python",
   "nbconvert_exporter": "python",
   "pygments_lexer": "ipython3",
   "version": "3.8.8"
  }
 },
 "nbformat": 4,
 "nbformat_minor": 5
}
